{
 "cells": [
  {
   "cell_type": "markdown",
   "metadata": {
    "colab_type": "text",
    "id": "Uham18hOL4Xm"
   },
   "source": [
    "# EE3-25 Deep Learning Coursework\n",
    "*Miroslav Gasparek, Dept. of Bioengineering, Imperial College London*\n",
    "\n",
    "*Last update: 20 March 2019*\n",
    "The coursework for the Deep Learning course in the EE Department at Imperial College London. \n",
    "\n",
    "### Description\n",
    "This coursework deals with the two-step training for the N-HPatches problem. In N-HPatches problem, we aim to generate a patch descriptor that is able to perform successfully tasks such as matching, retrieval or verification.\n",
    "Contrary to classical HPatches dataset, in N-HPatches, images contain random non-smooth perturbations produced by a synthetic noise. This noise could be critical when training the descriptor, therefore, we introduce a denoising model that could help us to deal with those perturbations.  \n",
    "\n",
    "We aim to minimize the noise in images before the second step, which is computing a feature vector, also called descriptor."
   ]
  },
  {
   "cell_type": "markdown",
   "metadata": {
    "colab_type": "text",
    "id": "v9tqQpMaThIf"
   },
   "source": [
    "### Preliminary safety check"
   ]
  },
  {
   "cell_type": "code",
   "execution_count": 0,
   "metadata": {
    "colab": {
     "base_uri": "https://localhost:8080/",
     "height": 354
    },
    "colab_type": "code",
    "id": "p_RGJG6hL5cX",
    "outputId": "8391eb03-9eb8-4f9d-831b-ecb66835d4c1"
   },
   "outputs": [
    {
     "name": "stdout",
     "output_type": "stream",
     "text": [
      "Collecting gputil\n",
      "  Downloading https://files.pythonhosted.org/packages/ed/0e/5c61eedde9f6c87713e89d794f01e378cfd9565847d4576fa627d758c554/GPUtil-1.4.0.tar.gz\n",
      "Building wheels for collected packages: gputil\n",
      "  Building wheel for gputil (setup.py) ... \u001b[?25ldone\n",
      "\u001b[?25h  Stored in directory: /root/.cache/pip/wheels/3d/77/07/80562de4bb0786e5ea186911a2c831fdd0018bda69beab71fd\n",
      "Successfully built gputil\n",
      "Installing collected packages: gputil\n",
      "Successfully installed gputil-1.4.0\n",
      "Requirement already satisfied: psutil in /usr/local/lib/python3.6/dist-packages (5.4.8)\n",
      "Requirement already satisfied: humanize in /usr/local/lib/python3.6/dist-packages (0.5.1)\n",
      "\n",
      "RAM Free: 12.9 GB  | Proc size: 332.1 MB\n",
      "GPU RAM Free: 11441MB | Used: 0MB | Util   0% | Total 11441MB\n"
     ]
    }
   ],
   "source": [
    "# Taken from\n",
    "# https://stackoverflow.com/questions/48750199/google-colaboratory-misleading-information-about-its-gpu-only-5-ram-available\n",
    "# memory footprint support libraries/code\n",
    "!ln -sf /opt/bin/nvidia-smi /usr/bin/nvidia-smi\n",
    "!pip install gputil\n",
    "!pip install psutil\n",
    "!pip install humanize\n",
    "import psutil\n",
    "import humanize\n",
    "import os\n",
    "import GPUtil as GPU\n",
    "GPUs = GPU.getGPUs()\n",
    "# Colab only provides one GPU and it is not always guaranteed\n",
    "gpu = GPUs[0]\n",
    "def printm():\n",
    "  process = psutil.Process(os.getpid())\n",
    "  print(\"RAM Free: \" + humanize.naturalsize( psutil.virtual_memory().available ), \" | Proc size: \" + humanize.naturalsize( process.memory_info().rss))\n",
    "  print(\"GPU RAM Free: {0:.0f}MB | Used: {1:.0f}MB | Util {2:3.0f}% | Total {3:.0f}MB\".format(gpu.memoryFree, gpu.memoryUsed, gpu.memoryUtil*100, gpu.memoryTotal))\n",
    "print()  \n",
    "printm()\n"
   ]
  },
  {
   "cell_type": "markdown",
   "metadata": {
    "colab_type": "text",
    "id": "uuJUh5rgToaS"
   },
   "source": [
    "## Cloning into repository, downloading and extracting data"
   ]
  },
  {
   "cell_type": "code",
   "execution_count": 0,
   "metadata": {
    "colab": {
     "base_uri": "https://localhost:8080/",
     "height": 164
    },
    "colab_type": "code",
    "id": "Yr4w4zUpMDMM",
    "outputId": "8e293dbf-c7c6-4313-d8b7-056d931205cf"
   },
   "outputs": [
    {
     "name": "stdout",
     "output_type": "stream",
     "text": [
      "Cloning into 'keras_triplet_descriptor'...\n",
      "remote: Enumerating objects: 3, done.\u001b[K\n",
      "remote: Counting objects: 100% (3/3), done.\u001b[K\n",
      "remote: Compressing objects: 100% (3/3), done.\u001b[K\n",
      "remote: Total 181 (delta 0), reused 1 (delta 0), pack-reused 178\u001b[K\n",
      "Receiving objects: 100% (181/181), 149.87 MiB | 19.50 MiB/s, done.\n",
      "Resolving deltas: 100% (65/65), done.\n",
      "Checking out files: 100% (69/69), done.\n",
      "/content/keras_triplet_descriptor\n"
     ]
    }
   ],
   "source": [
    "# Clone repo\n",
    "!git clone https://github.com/MatchLab-Imperial/keras_triplet_descriptor\n",
    "  \n",
    "# Change directory\n",
    "%cd /content/keras_triplet_descriptor"
   ]
  },
  {
   "cell_type": "code",
   "execution_count": 0,
   "metadata": {
    "colab": {
     "base_uri": "https://localhost:8080/",
     "height": 1019
    },
    "colab_type": "code",
    "id": "hnDK-fwwMWkt",
    "outputId": "93071412-5b4d-439e-8728-1ee1bc7d6d06"
   },
   "outputs": [
    {
     "name": "stdout",
     "output_type": "stream",
     "text": [
      "--2019-03-21 22:50:26--  https://imperialcollegelondon.box.com/shared/static/ah40eq7cxpwq4a6l4f62efzdyt8rm3ha.zip\n",
      "Resolving imperialcollegelondon.box.com (imperialcollegelondon.box.com)... 185.235.236.197\n",
      "Connecting to imperialcollegelondon.box.com (imperialcollegelondon.box.com)|185.235.236.197|:443... connected.\n",
      "HTTP request sent, awaiting response... 301 Moved Permanently\n",
      "Location: /public/static/ah40eq7cxpwq4a6l4f62efzdyt8rm3ha.zip [following]\n",
      "--2019-03-21 22:50:27--  https://imperialcollegelondon.box.com/public/static/ah40eq7cxpwq4a6l4f62efzdyt8rm3ha.zip\n",
      "Reusing existing connection to imperialcollegelondon.box.com:443.\n",
      "HTTP request sent, awaiting response... 301 Moved Permanently\n",
      "Location: https://imperialcollegelondon.app.box.com/public/static/ah40eq7cxpwq4a6l4f62efzdyt8rm3ha.zip [following]\n",
      "--2019-03-21 22:50:27--  https://imperialcollegelondon.app.box.com/public/static/ah40eq7cxpwq4a6l4f62efzdyt8rm3ha.zip\n",
      "Resolving imperialcollegelondon.app.box.com (imperialcollegelondon.app.box.com)... 185.235.236.199\n",
      "Connecting to imperialcollegelondon.app.box.com (imperialcollegelondon.app.box.com)|185.235.236.199|:443... connected.\n",
      "HTTP request sent, awaiting response... 302 Found\n",
      "Location: https://public.boxcloud.com/d/1/b1!Lj6vHaB1o1mmypSg2LtgLElT9yEkXCpIEfOF-o2k7hYjFc6bpx1ZbxcYLoyzsfbEf7tQQW03tfkF_dKuRzyktsJnLG4JaHfvkRofFD7u5S_xT3yxhRG23b7Qepmulq7DtXQ2C3J7eODcVDbwlWKDjhuCqqb2tyuP94SpXuis4QftFLYEMWXdmcUi7Ee06qoJAJO4OVHmsXl_XX8JckGLyyxhu4t2TRc3Gaw3hnbyLWypWSuy1BGRfmzKjHda-5Vzv6x_oKipIg0UQ4bmvClTQG2pEgOwE3ie3Ua7W6kF_uDRdPeoka8Z56EgauSxj37eVs9cBoZsR5ebDFkFirO1NRsMIhgapVCkHUF6OH7LMBpdtqeAruRZ6o6tJyS_dRP6bl-cxE9rYfn2fGFnNZSUZyUO9xBJXJUrPUegCnaY3UXBeSO4hzJh55Eg6-2GznLmYRCv2MObhg9YbwtWkK3hYjO_38L_416yAMKKBdthbcyNvbv8Y7M4b0bosT7tjxQ-qxH8YfmUvNljPWmSpDRF_qHeM1xxJUIHiAu9yOzJX4z8zcnXEYOV9O2kOPWLj6DRSznuVbVVtHa5TRD853vdB2OF6su9vZtjj9yyn18hyopEY9DrxZPV6cSd5lxgsNmkW2Y4M0OXz_LpdJiSiRTtX6LMMwv_WrN_beOlIetXPtp7RN3OS4D3FyfBrfz9uET2KvBSvOKTmfuAFGt1W8b9mG1a594yvSbc5QujpqHHGEVw4FxbQKAIucnW32q1vTeRXvNp6Zpaap4a7ZYFkCVQ0KRyEVtdPyA4qjHTLzwXr1fXCL0U8KLbTTEF9y2k8lgQKEEvKmuEEiPmfoTxw_LcI-FKkLM4DgouQdRlmnk1ocR0qzRUFQIPleQ_oIh37kOBty4O8V5uJ4WyMtJBQ22VuRiIbhE9jErqbYJpI2vdGESalgzd6Giv11c2GouRK6Jik4upRCny7D47rSNWyjzw_MfsPABob9SAUypRSPZUtSBUwoZ4tK5oFUtyFIYqXJwzhal6IReiFkjFXsbSTRkom8pVaxOHqz-vWPo_5gE8PP0HjD9VON_SwpH40EwteBm8zNLtTvpL_-r_GOoRgP1Roz-jA6L1feT7gb-lO9lv6jXop1FKoui1XMCQtlClG6l91lV0oSPUwhPjx3SNpnvYM-B6YT_54k11GbzUfik42Bqw3cpicLbcY28C7oy28YWHamTs6T2ohnz5p-ZZ53EAjLyXXMB27QrW4J19Z4JjxqFy1PfHice7CCdCDJAfqcFg1AY28kq4xaUlSv8nWuFHBgh9VYEBnzhgE_evuLgEbFvlBdI7XeFzI3UejN-KbezNjrg-fQR2brL7D5PbdV5xKpxWCvF7xLTYcUsoA9313RIdjitqFIo5J9-NSEtACBo2zkDcu2njkcTsgMvJzQ2SnpZ2rke2dl2DXirq8R4p5JRJiKd0GiXMw34hD9jSU5JsUBSrNieTh-0Du_IABmytDBL7LKfgBhK1epAc/download [following]\n",
      "--2019-03-21 22:50:27--  https://public.boxcloud.com/d/1/b1!Lj6vHaB1o1mmypSg2LtgLElT9yEkXCpIEfOF-o2k7hYjFc6bpx1ZbxcYLoyzsfbEf7tQQW03tfkF_dKuRzyktsJnLG4JaHfvkRofFD7u5S_xT3yxhRG23b7Qepmulq7DtXQ2C3J7eODcVDbwlWKDjhuCqqb2tyuP94SpXuis4QftFLYEMWXdmcUi7Ee06qoJAJO4OVHmsXl_XX8JckGLyyxhu4t2TRc3Gaw3hnbyLWypWSuy1BGRfmzKjHda-5Vzv6x_oKipIg0UQ4bmvClTQG2pEgOwE3ie3Ua7W6kF_uDRdPeoka8Z56EgauSxj37eVs9cBoZsR5ebDFkFirO1NRsMIhgapVCkHUF6OH7LMBpdtqeAruRZ6o6tJyS_dRP6bl-cxE9rYfn2fGFnNZSUZyUO9xBJXJUrPUegCnaY3UXBeSO4hzJh55Eg6-2GznLmYRCv2MObhg9YbwtWkK3hYjO_38L_416yAMKKBdthbcyNvbv8Y7M4b0bosT7tjxQ-qxH8YfmUvNljPWmSpDRF_qHeM1xxJUIHiAu9yOzJX4z8zcnXEYOV9O2kOPWLj6DRSznuVbVVtHa5TRD853vdB2OF6su9vZtjj9yyn18hyopEY9DrxZPV6cSd5lxgsNmkW2Y4M0OXz_LpdJiSiRTtX6LMMwv_WrN_beOlIetXPtp7RN3OS4D3FyfBrfz9uET2KvBSvOKTmfuAFGt1W8b9mG1a594yvSbc5QujpqHHGEVw4FxbQKAIucnW32q1vTeRXvNp6Zpaap4a7ZYFkCVQ0KRyEVtdPyA4qjHTLzwXr1fXCL0U8KLbTTEF9y2k8lgQKEEvKmuEEiPmfoTxw_LcI-FKkLM4DgouQdRlmnk1ocR0qzRUFQIPleQ_oIh37kOBty4O8V5uJ4WyMtJBQ22VuRiIbhE9jErqbYJpI2vdGESalgzd6Giv11c2GouRK6Jik4upRCny7D47rSNWyjzw_MfsPABob9SAUypRSPZUtSBUwoZ4tK5oFUtyFIYqXJwzhal6IReiFkjFXsbSTRkom8pVaxOHqz-vWPo_5gE8PP0HjD9VON_SwpH40EwteBm8zNLtTvpL_-r_GOoRgP1Roz-jA6L1feT7gb-lO9lv6jXop1FKoui1XMCQtlClG6l91lV0oSPUwhPjx3SNpnvYM-B6YT_54k11GbzUfik42Bqw3cpicLbcY28C7oy28YWHamTs6T2ohnz5p-ZZ53EAjLyXXMB27QrW4J19Z4JjxqFy1PfHice7CCdCDJAfqcFg1AY28kq4xaUlSv8nWuFHBgh9VYEBnzhgE_evuLgEbFvlBdI7XeFzI3UejN-KbezNjrg-fQR2brL7D5PbdV5xKpxWCvF7xLTYcUsoA9313RIdjitqFIo5J9-NSEtACBo2zkDcu2njkcTsgMvJzQ2SnpZ2rke2dl2DXirq8R4p5JRJiKd0GiXMw34hD9jSU5JsUBSrNieTh-0Du_IABmytDBL7LKfgBhK1epAc/download\n",
      "Resolving public.boxcloud.com (public.boxcloud.com)... 185.235.236.200\n",
      "Connecting to public.boxcloud.com (public.boxcloud.com)|185.235.236.200|:443... connected.\n",
      "HTTP request sent, awaiting response... 200 OK\n",
      "Length: 4088106554 (3.8G) [application/zip]\n",
      "Saving to: ‘hpatches_data.zip’\n",
      "\n",
      "hpatches_data.zip   100%[===================>]   3.81G  23.0MB/s    in 2m 55s  \n",
      "\n",
      "2019-03-21 22:53:23 (22.3 MB/s) - ‘hpatches_data.zip’ saved [4088106554/4088106554]\n",
      "\n"
     ]
    }
   ],
   "source": [
    "\n",
    "# Download data (zipped format)\n",
    "!wget -O hpatches_data.zip https://imperialcollegelondon.box.com/shared/static/ah40eq7cxpwq4a6l4f62efzdyt8rm3ha.zip"
   ]
  },
  {
   "cell_type": "code",
   "execution_count": 0,
   "metadata": {
    "colab": {},
    "colab_type": "code",
    "id": "m_OOIQu2MZCr"
   },
   "outputs": [],
   "source": [
    "# Extract data (unzip)\n",
    "!unzip -q ./hpatches_data.zip\n",
    "!rm ./hpatches_data.zip"
   ]
  },
  {
   "cell_type": "markdown",
   "metadata": {
    "colab_type": "text",
    "id": "R5plvqJ9T0FC"
   },
   "source": [
    "## Importing necessary modules"
   ]
  },
  {
   "cell_type": "code",
   "execution_count": 0,
   "metadata": {
    "colab": {},
    "colab_type": "code",
    "id": "3h6FPozNM1CT"
   },
   "outputs": [],
   "source": [
    "# Import necessary Python modules and tensorflow\n",
    "import sys\n",
    "import json\n",
    "import os\n",
    "import glob\n",
    "import time\n",
    "import tensorflow as tf\n",
    "import numpy as np\n",
    "import cv2\n",
    "import random\n",
    "import matplotlib.pyplot as plt\n",
    "\n",
    "# Import keras and appropriate modules\n",
    "import keras\n",
    "from keras import backend as K\n",
    "from keras.models import Sequential, Model\n",
    "from keras.layers import Dense, Dropout, Activation, Flatten, Input, Lambda, Reshape\n",
    "from keras.layers import Conv2D, MaxPooling2D, BatchNormalization \n",
    "from keras.layers import Input, UpSampling2D, concatenate  \n",
    "from keras.layers import GlobalAveragePooling2D, AveragePooling2D\n",
    "from keras.utils import np_utils\n",
    "from keras.utils import plot_model\n",
    "\n",
    "\n",
    "# Import callbacks\n",
    "from keras.callbacks import ReduceLROnPlateau\n",
    "# Import the appropriate module for callbacks\n",
    "from keras.callbacks import Callback\n",
    "# Import the module for ROC and AUC \n",
    "from sklearn.metrics import roc_auc_score\n",
    "from keras.callbacks import ModelCheckpoint\n",
    "\n",
    "# Import ResNet50\n",
    "from keras.applications.resnet50 import ResNet50\n",
    "\n",
    "# Import modules specific to the task\n",
    "from read_data import HPatches, DataGeneratorDesc, hpatches_sequence_folder, DenoiseHPatches, tps\n",
    "from utils import generate_desc_csv, plot_denoise, plot_triplet"
   ]
  },
  {
   "cell_type": "code",
   "execution_count": 0,
   "metadata": {
    "colab": {},
    "colab_type": "code",
    "id": "7dyvV8PBNTx2"
   },
   "outputs": [],
   "source": [
    "# Fix the seeds of the pseudo-random number generators to get the reproducible results\n",
    "# This should enable us to have the same results whenever the algorithm is run\n",
    "random.seed(1234)\n",
    "np.random.seed(1234)\n",
    "tf.set_random_seed(1234)"
   ]
  },
  {
   "cell_type": "markdown",
   "metadata": {
    "colab_type": "text",
    "id": "3iE9nz8_T5k_"
   },
   "source": [
    "## Loading the appropriate data"
   ]
  },
  {
   "cell_type": "code",
   "execution_count": 0,
   "metadata": {
    "colab": {},
    "colab_type": "code",
    "id": "nlQIB8S3NWL-"
   },
   "outputs": [],
   "source": [
    "# Load the data with the appropriate split\n",
    "hpatches_dir = './hpatches'\n",
    "splits_path = './splits.json'\n",
    "\n",
    "splits_json = json.load(open(splits_path, 'rb'))\n",
    "split = splits_json['a']\n",
    "\n",
    "train_fnames = split['train']\n",
    "test_fnames = split['test']\n",
    "\n",
    "seqs = glob.glob(hpatches_dir+'/*')\n",
    "seqs = [os.path.abspath(p) for p in seqs]   \n",
    "seqs_train = list(filter(lambda x: x.split('/')[-1] in train_fnames, seqs)) \n",
    "seqs_test = list(filter(lambda x: x.split('/')[-1] in split['test'], seqs))"
   ]
  },
  {
   "cell_type": "markdown",
   "metadata": {
    "colab_type": "text",
    "id": "UKGqksbPtZ_8"
   },
   "source": [
    "## Define the triplet loss"
   ]
  },
  {
   "cell_type": "code",
   "execution_count": 0,
   "metadata": {
    "colab": {},
    "colab_type": "code",
    "id": "36t9Ag2uOT08"
   },
   "outputs": [],
   "source": [
    "# Define the triplet loss metrics\n",
    "def triplet_loss(x):\n",
    "  \n",
    "  output_dim = 128\n",
    "  a, p, n = x\n",
    "  _alpha = 1.0\n",
    "  positive_distance = K.mean(K.square(a - p), axis=-1)\n",
    "  negative_distance = K.mean(K.square(a - n), axis=-1)\n",
    "  \n",
    "  return K.expand_dims(K.maximum(0.0, positive_distance - negative_distance + _alpha), axis = 1)\n",
    "\n",
    "\n"
   ]
  },
  {
   "cell_type": "markdown",
   "metadata": {
    "colab_type": "text",
    "id": "z5mivotoUDgt"
   },
   "source": [
    "## Improved denoising model definition"
   ]
  },
  {
   "cell_type": "code",
   "execution_count": 0,
   "metadata": {
    "colab": {},
    "colab_type": "code",
    "id": "_BzGide-ObPZ"
   },
   "outputs": [],
   "source": [
    "def get_denoise_model_UNet(shape):\n",
    "   \n",
    "  # Architecture inspired by UNet, but some layers are removed, only the optimal\n",
    "  # architecture is left\n",
    "  inputs = Input(shape)\n",
    "  \n",
    "  ## Encoder starts\n",
    "  conv1 = Conv2D(64, 3, activation = 'relu', padding = 'same', kernel_initializer = 'he_normal')(inputs)\n",
    "  pool1 = MaxPooling2D(pool_size=(2, 2))(conv1)\n",
    "  \n",
    "  conv2 = Conv2D(128, 3, activation = 'relu', padding = 'same', kernel_initializer = 'he_normal')(pool1)\n",
    "  pool2 = MaxPooling2D(pool_size=(2, 2))(conv2)\n",
    "  \n",
    "  conv3 = Conv2D(256, 3, activation = 'relu', padding = 'same', kernel_initializer = 'he_normal')(pool2)\n",
    "  pool3 = MaxPooling2D(pool_size=(2, 2))(conv3)\n",
    "  \n",
    "  conv4 = Conv2D(512, 3, activation = 'relu', padding = 'same', kernel_initializer = 'he_normal')(pool3)\n",
    "  drop4 = Dropout(0.5)(conv4)\n",
    "  pool4 = MaxPooling2D(pool_size=(2, 2))(drop4)\n",
    "\n",
    "  # This is the bottle-neck of the network\n",
    "  conv5 = Conv2D(1024, 3, activation = 'relu', padding = 'same', kernel_initializer = 'he_normal')(pool4)\n",
    "  drop5 = Dropout(0.5)(conv5)\n",
    "\n",
    "  ## Now the decoder starts\n",
    "\n",
    "  up6 = Conv2D(512, 2, activation = 'relu', padding = 'same', kernel_initializer = 'he_normal')(UpSampling2D(size = (2,2))(drop5))\n",
    "  merge6 = concatenate([drop4,up6], axis = 3)\n",
    "  conv6 = Conv2D(512, 3, activation = 'relu', padding = 'same', kernel_initializer = 'he_normal')(merge6)\n",
    "\n",
    "  up7 = Conv2D(256, 2, activation = 'relu', padding = 'same', kernel_initializer = 'he_normal')(UpSampling2D(size = (2,2))(conv6))\n",
    "  merge7 = concatenate([conv3,up7], axis = 3)\n",
    "  conv7 = Conv2D(256, 3, activation = 'relu', padding = 'same', kernel_initializer = 'he_normal')(merge7)\n",
    "\n",
    "  up8 = Conv2D(128, 2, activation = 'relu', padding = 'same', kernel_initializer = 'he_normal')(UpSampling2D(size = (2,2))(conv7))\n",
    "  merge8 = concatenate([conv2,up8], axis = 3)\n",
    "  conv8 = Conv2D(128, 3, activation = 'relu', padding = 'same', kernel_initializer = 'he_normal')(merge8)\n",
    "\n",
    "  up9 = Conv2D(64, 2, activation = 'relu', padding = 'same', kernel_initializer = 'he_normal')(UpSampling2D(size = (2,2))(conv8))\n",
    "  merge9 = concatenate([conv1,up9], axis = 3)\n",
    "  conv9 = Conv2D(64, 3, activation = 'relu', padding = 'same', kernel_initializer = 'he_normal')(merge9)\n",
    "\n",
    "  conv10 = Conv2D(1, 3,  padding = 'same')(conv9)\n",
    "\n",
    "  deeper_net = Model(inputs = inputs, outputs = conv10)\n",
    "  \n",
    "#   deeper_net.summary()\n",
    "  \n",
    "  return deeper_net"
   ]
  },
  {
   "cell_type": "markdown",
   "metadata": {
    "colab_type": "text",
    "id": "Wh7hzBojUIGN"
   },
   "source": [
    "## Improved descriptor model definition"
   ]
  },
  {
   "cell_type": "code",
   "execution_count": 0,
   "metadata": {
    "colab": {},
    "colab_type": "code",
    "id": "3K8s-Ne8OmQX"
   },
   "outputs": [],
   "source": [
    "# Define the residual identity block\n",
    "def identity_block(X,k_size, filters, stage, block):\n",
    "  \n",
    "  \"\"\"Residual identity block implementation.\n",
    "  \"\"\"\n",
    "  \n",
    "  # Define the name basis for the identification\n",
    "  conv_name_base = 'res' + str(stage) + block + '_branch'\n",
    "  bn_name_base = 'bn' + str(stage) + block + '_branch'\n",
    "\n",
    "  # Get the filters for the particular layers\n",
    "  F1, F2, F3 = filters\n",
    "  \n",
    "  # Save the input for later to be added back\n",
    "  X_shortcut = X\n",
    "\n",
    "  ### MAIN PATH ###\n",
    "  # The first layer of the main path\n",
    "  X = Conv2D(filters=F1, kernel_size=(1, 1), strides=(1, 1), padding='valid',\n",
    "             name= conv_name_base + '2a')(X)\n",
    "  X = BatchNormalization(axis=3, name=bn_name_base + '2a')(X)\n",
    "  X = Activation('relu')(X)\n",
    "\n",
    "  # The second layer of the main path\n",
    "  X = Conv2D(filters=F2, kernel_size=(k_size, k_size), strides=(1,1), padding='same',\n",
    "             name=conv_name_base + '2b')(X)\n",
    "  X = BatchNormalization(axis=3, name=bn_name_base + '2b')(X)\n",
    "  X = Activation('relu')(X)\n",
    "\n",
    "  # The third layer of the main path\n",
    "  X = Conv2D(filters=F3, kernel_size=(1, 1), strides=(1, 1), padding='valid',\n",
    "             name=conv_name_base + '2c')(X)\n",
    "  X = BatchNormalization(axis=3, name=bn_name_base + '2c')(X)\n",
    "\n",
    "  # Finally, add the input to the output of the residual block\n",
    "  # and pass it through the ReLU activation\n",
    "  X = keras.layers.Add()([X, X_shortcut])\n",
    "  X = Activation('relu')(X)\n",
    "\n",
    "  return X\n",
    "\n",
    "# Define the residual network convolutional block\n",
    "def convolutional_block(X,k_size, filters, stage, block, st=2):\n",
    "  \n",
    "  \"\"\"Residual convolutional block implementation.\n",
    "     To be used if the input and output dimensions do not match up.\n",
    "     In such case, the convolutional block is added to the shortcut path.\n",
    "  \"\"\"\n",
    "  \n",
    "  # Define the name basis for the identification\n",
    "  conv_name_base = 'res' + str(stage) + block + '_branch'\n",
    "  bn_name_base = 'bn' + str(stage) + block + '_branch'\n",
    "\n",
    "  # Get the filters for the particular layers\n",
    "  F1, F2, F3 = filters\n",
    "  \n",
    "  # Save the input for later to be added back\n",
    "  X_shortcut = X\n",
    "\n",
    "  ### MAIN PATH ###\n",
    "  # The first layer of the main path\n",
    "  X = Conv2D(filters=F1, kernel_size=(1, 1), strides=(st, st), padding='valid',\n",
    "             name= conv_name_base + '2a')(X)\n",
    "  X = BatchNormalization(axis=3, name=bn_name_base + '2a')(X)\n",
    "  X = Activation('relu')(X)\n",
    "\n",
    "  # The second layer of the main path\n",
    "  X = Conv2D(filters=F2, kernel_size=(k_size, k_size), strides=(1,1), padding='same',\n",
    "             name=conv_name_base + '2b')(X)\n",
    "  X = BatchNormalization(axis=3, name=bn_name_base + '2b')(X)\n",
    "  X = Activation('relu')(X)\n",
    "\n",
    "  # The third layer of the main path\n",
    "  X = Conv2D(filters=F3, kernel_size=(1, 1), strides=(1, 1), padding='valid',\n",
    "             name=conv_name_base + '2c')(X)\n",
    "  X = BatchNormalization(axis=3, name=bn_name_base + '2c')(X)\n",
    "\n",
    "  ### SHORTCUT PATH ###\n",
    "  # Shortcut path contains a convolutional layer with Batch Normalization\n",
    "  X_shortcut = Conv2D(filters=F3, kernel_size=(1,1), strides=(st,st),\n",
    "                     name=conv_name_base + '1')(X_shortcut)\n",
    "  X_shortcut = BatchNormalization(axis=3, name=bn_name_base + '1')(X_shortcut)\n",
    "  \n",
    "  # Finally, add the input to the output of the residual block\n",
    "  # and pass it through the ReLU activation\n",
    "  X = keras.layers.Add()([X, X_shortcut])\n",
    "  X = Activation('relu')(X)\n",
    "\n",
    "  return X\n",
    "\n",
    "\n",
    "# Define the descriptor network\n",
    "def get_descriptor_model_improved(shape):\n",
    "  \n",
    "  '''Architecture combines the intial branching block inspired by the \n",
    "  inception net, and several residual blocks, inspired by the ResNet.\n",
    "  Full ResNet was considered, but it was found out to give too much burden\n",
    "  for the training from scratch.'''\n",
    "  \n",
    "    # The inputs must have the appropriate size\n",
    "  # Input size must be 32x32x1 to match the pictures\n",
    "  X_input = Input(shape)\n",
    "  \n",
    "  # Define weight initializer\n",
    "  init_weights = keras.initializers.he_normal()\n",
    "  \n",
    "  # The first two convolutional layers\n",
    "  X = Conv2D(filters=16, kernel_size=(3,3), padding='same', input_shape=shape, kernel_initializer=init_weights, name='conv1a')(X_input)\n",
    "  X = BatchNormalization(axis = -1)(X)\n",
    "  X = Activation('relu')(X)\n",
    "  \n",
    "  X = Conv2D(filters=16, kernel_size=(3,3), padding='same', input_shape=shape, kernel_initializer=init_weights, name='conv1b')(X)\n",
    "  X = BatchNormalization(axis = -1)(X)\n",
    "  X = Activation('relu')(X)\n",
    "\n",
    "  # The second convolutional layer - first branch\n",
    "  X1 = Conv2D(filters=32, kernel_size=(3,3), padding='same', kernel_initializer=init_weights,name='conv2a')(X)\n",
    "  X1 = BatchNormalization(axis = -1)(X1)\n",
    "  X1 = Activation('relu')(X1)\n",
    "  \n",
    "  X1 = Conv2D(filters=32, kernel_size=(3,3), padding='same', kernel_initializer=init_weights,name='conv2b')(X)\n",
    "  X1 = BatchNormalization(axis = -1)(X1)\n",
    "  X1 = Activation('relu')(X1)  \n",
    "  \n",
    "  # The second convolutional layer - second branch\n",
    "  X2 = Conv2D(filters=8, kernel_size=(1,1), padding='same', kernel_initializer=init_weights, name='conv3a')(X)\n",
    "  X2 = BatchNormalization(axis = -1)(X2)\n",
    "  X2 = Activation('relu')(X2)\n",
    "  \n",
    "  X2 = Conv2D(filters=8, kernel_size=(3,3), padding='same', kernel_initializer=init_weights, name='conv3b')(X2)\n",
    "  X2 = BatchNormalization(axis = -1)(X2)\n",
    "  X2 = Activation('relu')(X2)\n",
    "\n",
    "  X2 = Conv2D(filters=32, kernel_size=(1,1), padding='same', kernel_initializer=init_weights, name='conv3c')(X2)\n",
    "  X2 = BatchNormalization(axis = -1)(X2)\n",
    "  X2 = Activation('relu')(X2)\n",
    "  \n",
    "  X = keras.layers.Add()([X1,X2])\n",
    "  \n",
    "  # The convolutional and indentity blocks, inspired by\n",
    "  # https://engmrk.com/residual-networks-resnets/  \n",
    "  X = convolutional_block(X, k_size=3, filters=[8, 8, 32], stage=4, block='a',st=2)\n",
    "  X = identity_block(X,k_size=3, filters = [8, 8, 32], stage=4, block='b')\n",
    "  X = identity_block(X,k_size=3, filters = [8, 8, 32], stage=4, block='c')\n",
    "\n",
    "  X = Dropout(0.3)(X)\n",
    "\n",
    "  X = Conv2D(filters=128, kernel_size=(8,8), padding='valid', kernel_initializer=init_weights, name='conv4')(X)\n",
    "  X = BatchNormalization(axis = -1)(X)\n",
    "  X = Activation('relu')(X)\n",
    "  \n",
    "  X = Conv2D(filters=128, kernel_size=(8,8), strides=(2,2), padding='valid', kernel_initializer=init_weights, name='conv5')(X)\n",
    "  X = BatchNormalization(axis = -1)(X)\n",
    "  X = Activation('relu')(X)\n",
    "    \n",
    "  \n",
    "#   # Final descriptor reshape\n",
    "  X = Reshape((128,))(X)\n",
    " \n",
    "  # Create the model\n",
    "  model = Model(inputs=X_input, outputs=X, name='improved')\n",
    "  \n",
    "  return model\n",
    "\n",
    "  \n",
    "\n"
   ]
  },
  {
   "cell_type": "code",
   "execution_count": 0,
   "metadata": {
    "colab": {
     "base_uri": "https://localhost:8080/",
     "height": 2292
    },
    "colab_type": "code",
    "id": "Z5P5EbS5Oo6R",
    "outputId": "6a6e9956-b67e-43ec-af51-8777fbb9905f"
   },
   "outputs": [
    {
     "name": "stdout",
     "output_type": "stream",
     "text": [
      "WARNING:tensorflow:From /usr/local/lib/python3.6/dist-packages/tensorflow/python/framework/op_def_library.py:263: colocate_with (from tensorflow.python.framework.ops) is deprecated and will be removed in a future version.\n",
      "Instructions for updating:\n",
      "Colocations handled automatically by placer.\n",
      "WARNING:tensorflow:From /usr/local/lib/python3.6/dist-packages/keras/backend/tensorflow_backend.py:3445: calling dropout (from tensorflow.python.ops.nn_ops) with keep_prob is deprecated and will be removed in a future version.\n",
      "Instructions for updating:\n",
      "Please use `rate` instead of `keep_prob`. Rate should be set to `rate = 1 - keep_prob`.\n",
      "__________________________________________________________________________________________________\n",
      "Layer (type)                    Output Shape         Param #     Connected to                     \n",
      "==================================================================================================\n",
      "input_1 (InputLayer)            (None, 32, 32, 1)    0                                            \n",
      "__________________________________________________________________________________________________\n",
      "conv1a (Conv2D)                 (None, 32, 32, 16)   160         input_1[0][0]                    \n",
      "__________________________________________________________________________________________________\n",
      "batch_normalization_1 (BatchNor (None, 32, 32, 16)   64          conv1a[0][0]                     \n",
      "__________________________________________________________________________________________________\n",
      "activation_1 (Activation)       (None, 32, 32, 16)   0           batch_normalization_1[0][0]      \n",
      "__________________________________________________________________________________________________\n",
      "conv1b (Conv2D)                 (None, 32, 32, 16)   2320        activation_1[0][0]               \n",
      "__________________________________________________________________________________________________\n",
      "batch_normalization_2 (BatchNor (None, 32, 32, 16)   64          conv1b[0][0]                     \n",
      "__________________________________________________________________________________________________\n",
      "activation_2 (Activation)       (None, 32, 32, 16)   0           batch_normalization_2[0][0]      \n",
      "__________________________________________________________________________________________________\n",
      "conv3a (Conv2D)                 (None, 32, 32, 8)    136         activation_2[0][0]               \n",
      "__________________________________________________________________________________________________\n",
      "batch_normalization_5 (BatchNor (None, 32, 32, 8)    32          conv3a[0][0]                     \n",
      "__________________________________________________________________________________________________\n",
      "activation_5 (Activation)       (None, 32, 32, 8)    0           batch_normalization_5[0][0]      \n",
      "__________________________________________________________________________________________________\n",
      "conv3b (Conv2D)                 (None, 32, 32, 8)    584         activation_5[0][0]               \n",
      "__________________________________________________________________________________________________\n",
      "batch_normalization_6 (BatchNor (None, 32, 32, 8)    32          conv3b[0][0]                     \n",
      "__________________________________________________________________________________________________\n",
      "activation_6 (Activation)       (None, 32, 32, 8)    0           batch_normalization_6[0][0]      \n",
      "__________________________________________________________________________________________________\n",
      "conv2b (Conv2D)                 (None, 32, 32, 32)   4640        activation_2[0][0]               \n",
      "__________________________________________________________________________________________________\n",
      "conv3c (Conv2D)                 (None, 32, 32, 32)   288         activation_6[0][0]               \n",
      "__________________________________________________________________________________________________\n",
      "batch_normalization_4 (BatchNor (None, 32, 32, 32)   128         conv2b[0][0]                     \n",
      "__________________________________________________________________________________________________\n",
      "batch_normalization_7 (BatchNor (None, 32, 32, 32)   128         conv3c[0][0]                     \n",
      "__________________________________________________________________________________________________\n",
      "activation_4 (Activation)       (None, 32, 32, 32)   0           batch_normalization_4[0][0]      \n",
      "__________________________________________________________________________________________________\n",
      "activation_7 (Activation)       (None, 32, 32, 32)   0           batch_normalization_7[0][0]      \n",
      "__________________________________________________________________________________________________\n",
      "add_1 (Add)                     (None, 32, 32, 32)   0           activation_4[0][0]               \n",
      "                                                                 activation_7[0][0]               \n",
      "__________________________________________________________________________________________________\n",
      "res4a_branch2a (Conv2D)         (None, 16, 16, 8)    264         add_1[0][0]                      \n",
      "__________________________________________________________________________________________________\n",
      "bn4a_branch2a (BatchNormalizati (None, 16, 16, 8)    32          res4a_branch2a[0][0]             \n",
      "__________________________________________________________________________________________________\n",
      "activation_8 (Activation)       (None, 16, 16, 8)    0           bn4a_branch2a[0][0]              \n",
      "__________________________________________________________________________________________________\n",
      "res4a_branch2b (Conv2D)         (None, 16, 16, 8)    584         activation_8[0][0]               \n",
      "__________________________________________________________________________________________________\n",
      "bn4a_branch2b (BatchNormalizati (None, 16, 16, 8)    32          res4a_branch2b[0][0]             \n",
      "__________________________________________________________________________________________________\n",
      "activation_9 (Activation)       (None, 16, 16, 8)    0           bn4a_branch2b[0][0]              \n",
      "__________________________________________________________________________________________________\n",
      "res4a_branch2c (Conv2D)         (None, 16, 16, 32)   288         activation_9[0][0]               \n",
      "__________________________________________________________________________________________________\n",
      "res4a_branch1 (Conv2D)          (None, 16, 16, 32)   1056        add_1[0][0]                      \n",
      "__________________________________________________________________________________________________\n",
      "bn4a_branch2c (BatchNormalizati (None, 16, 16, 32)   128         res4a_branch2c[0][0]             \n",
      "__________________________________________________________________________________________________\n",
      "bn4a_branch1 (BatchNormalizatio (None, 16, 16, 32)   128         res4a_branch1[0][0]              \n",
      "__________________________________________________________________________________________________\n",
      "add_2 (Add)                     (None, 16, 16, 32)   0           bn4a_branch2c[0][0]              \n",
      "                                                                 bn4a_branch1[0][0]               \n",
      "__________________________________________________________________________________________________\n",
      "activation_10 (Activation)      (None, 16, 16, 32)   0           add_2[0][0]                      \n",
      "__________________________________________________________________________________________________\n",
      "res4b_branch2a (Conv2D)         (None, 16, 16, 8)    264         activation_10[0][0]              \n",
      "__________________________________________________________________________________________________\n",
      "bn4b_branch2a (BatchNormalizati (None, 16, 16, 8)    32          res4b_branch2a[0][0]             \n",
      "__________________________________________________________________________________________________\n",
      "activation_11 (Activation)      (None, 16, 16, 8)    0           bn4b_branch2a[0][0]              \n",
      "__________________________________________________________________________________________________\n",
      "res4b_branch2b (Conv2D)         (None, 16, 16, 8)    584         activation_11[0][0]              \n",
      "__________________________________________________________________________________________________\n",
      "bn4b_branch2b (BatchNormalizati (None, 16, 16, 8)    32          res4b_branch2b[0][0]             \n",
      "__________________________________________________________________________________________________\n",
      "activation_12 (Activation)      (None, 16, 16, 8)    0           bn4b_branch2b[0][0]              \n",
      "__________________________________________________________________________________________________\n",
      "res4b_branch2c (Conv2D)         (None, 16, 16, 32)   288         activation_12[0][0]              \n",
      "__________________________________________________________________________________________________\n",
      "bn4b_branch2c (BatchNormalizati (None, 16, 16, 32)   128         res4b_branch2c[0][0]             \n",
      "__________________________________________________________________________________________________\n",
      "add_3 (Add)                     (None, 16, 16, 32)   0           bn4b_branch2c[0][0]              \n",
      "                                                                 activation_10[0][0]              \n",
      "__________________________________________________________________________________________________\n",
      "activation_13 (Activation)      (None, 16, 16, 32)   0           add_3[0][0]                      \n",
      "__________________________________________________________________________________________________\n",
      "res4c_branch2a (Conv2D)         (None, 16, 16, 8)    264         activation_13[0][0]              \n",
      "__________________________________________________________________________________________________\n",
      "bn4c_branch2a (BatchNormalizati (None, 16, 16, 8)    32          res4c_branch2a[0][0]             \n",
      "__________________________________________________________________________________________________\n",
      "activation_14 (Activation)      (None, 16, 16, 8)    0           bn4c_branch2a[0][0]              \n",
      "__________________________________________________________________________________________________\n",
      "res4c_branch2b (Conv2D)         (None, 16, 16, 8)    584         activation_14[0][0]              \n",
      "__________________________________________________________________________________________________\n",
      "bn4c_branch2b (BatchNormalizati (None, 16, 16, 8)    32          res4c_branch2b[0][0]             \n",
      "__________________________________________________________________________________________________\n",
      "activation_15 (Activation)      (None, 16, 16, 8)    0           bn4c_branch2b[0][0]              \n",
      "__________________________________________________________________________________________________\n",
      "res4c_branch2c (Conv2D)         (None, 16, 16, 32)   288         activation_15[0][0]              \n",
      "__________________________________________________________________________________________________\n",
      "bn4c_branch2c (BatchNormalizati (None, 16, 16, 32)   128         res4c_branch2c[0][0]             \n",
      "__________________________________________________________________________________________________\n",
      "add_4 (Add)                     (None, 16, 16, 32)   0           bn4c_branch2c[0][0]              \n",
      "                                                                 activation_13[0][0]              \n",
      "__________________________________________________________________________________________________\n",
      "activation_16 (Activation)      (None, 16, 16, 32)   0           add_4[0][0]                      \n",
      "__________________________________________________________________________________________________\n",
      "dropout_1 (Dropout)             (None, 16, 16, 32)   0           activation_16[0][0]              \n",
      "__________________________________________________________________________________________________\n",
      "conv4 (Conv2D)                  (None, 9, 9, 128)    262272      dropout_1[0][0]                  \n",
      "__________________________________________________________________________________________________\n",
      "batch_normalization_8 (BatchNor (None, 9, 9, 128)    512         conv4[0][0]                      \n",
      "__________________________________________________________________________________________________\n",
      "activation_17 (Activation)      (None, 9, 9, 128)    0           batch_normalization_8[0][0]      \n",
      "__________________________________________________________________________________________________\n",
      "conv5 (Conv2D)                  (None, 1, 1, 128)    1048704     activation_17[0][0]              \n",
      "__________________________________________________________________________________________________\n",
      "batch_normalization_9 (BatchNor (None, 1, 1, 128)    512         conv5[0][0]                      \n",
      "__________________________________________________________________________________________________\n",
      "activation_18 (Activation)      (None, 1, 1, 128)    0           batch_normalization_9[0][0]      \n",
      "__________________________________________________________________________________________________\n",
      "reshape_1 (Reshape)             (None, 128)          0           activation_18[0][0]              \n",
      "==================================================================================================\n",
      "Total params: 1,325,744\n",
      "Trainable params: 1,324,656\n",
      "Non-trainable params: 1,088\n",
      "__________________________________________________________________________________________________\n"
     ]
    }
   ],
   "source": [
    "# Verify the syntax of the model\n",
    "shape=(32,32,1)\n",
    "descriptor_model_improved_loaded = get_descriptor_model_improved(shape)\n",
    "descriptor_model_improved_loaded.summary()\n",
    "plot_model(descriptor_model_improved_loaded, to_file='model_loaded.png')"
   ]
  },
  {
   "cell_type": "code",
   "execution_count": 0,
   "metadata": {
    "colab": {
     "base_uri": "https://localhost:8080/",
     "height": 1172
    },
    "colab_type": "code",
    "id": "MWxHMyOTb_-G",
    "outputId": "491992a4-9eff-4898-85da-4032a6b64c53"
   },
   "outputs": [
    {
     "name": "stdout",
     "output_type": "stream",
     "text": [
      "__________________________________________________________________________________________________\n",
      "Layer (type)                    Output Shape         Param #     Connected to                     \n",
      "==================================================================================================\n",
      "input_2 (InputLayer)            (None, 32, 32, 1)    0                                            \n",
      "__________________________________________________________________________________________________\n",
      "conv2d_1 (Conv2D)               (None, 32, 32, 64)   640         input_2[0][0]                    \n",
      "__________________________________________________________________________________________________\n",
      "max_pooling2d_1 (MaxPooling2D)  (None, 16, 16, 64)   0           conv2d_1[0][0]                   \n",
      "__________________________________________________________________________________________________\n",
      "conv2d_2 (Conv2D)               (None, 16, 16, 128)  73856       max_pooling2d_1[0][0]            \n",
      "__________________________________________________________________________________________________\n",
      "max_pooling2d_2 (MaxPooling2D)  (None, 8, 8, 128)    0           conv2d_2[0][0]                   \n",
      "__________________________________________________________________________________________________\n",
      "conv2d_3 (Conv2D)               (None, 8, 8, 256)    295168      max_pooling2d_2[0][0]            \n",
      "__________________________________________________________________________________________________\n",
      "max_pooling2d_3 (MaxPooling2D)  (None, 4, 4, 256)    0           conv2d_3[0][0]                   \n",
      "__________________________________________________________________________________________________\n",
      "conv2d_4 (Conv2D)               (None, 4, 4, 512)    1180160     max_pooling2d_3[0][0]            \n",
      "__________________________________________________________________________________________________\n",
      "dropout_2 (Dropout)             (None, 4, 4, 512)    0           conv2d_4[0][0]                   \n",
      "__________________________________________________________________________________________________\n",
      "max_pooling2d_4 (MaxPooling2D)  (None, 2, 2, 512)    0           dropout_2[0][0]                  \n",
      "__________________________________________________________________________________________________\n",
      "conv2d_5 (Conv2D)               (None, 2, 2, 1024)   4719616     max_pooling2d_4[0][0]            \n",
      "__________________________________________________________________________________________________\n",
      "dropout_3 (Dropout)             (None, 2, 2, 1024)   0           conv2d_5[0][0]                   \n",
      "__________________________________________________________________________________________________\n",
      "up_sampling2d_1 (UpSampling2D)  (None, 4, 4, 1024)   0           dropout_3[0][0]                  \n",
      "__________________________________________________________________________________________________\n",
      "conv2d_6 (Conv2D)               (None, 4, 4, 512)    2097664     up_sampling2d_1[0][0]            \n",
      "__________________________________________________________________________________________________\n",
      "concatenate_1 (Concatenate)     (None, 4, 4, 1024)   0           dropout_2[0][0]                  \n",
      "                                                                 conv2d_6[0][0]                   \n",
      "__________________________________________________________________________________________________\n",
      "conv2d_7 (Conv2D)               (None, 4, 4, 512)    4719104     concatenate_1[0][0]              \n",
      "__________________________________________________________________________________________________\n",
      "up_sampling2d_2 (UpSampling2D)  (None, 8, 8, 512)    0           conv2d_7[0][0]                   \n",
      "__________________________________________________________________________________________________\n",
      "conv2d_8 (Conv2D)               (None, 8, 8, 256)    524544      up_sampling2d_2[0][0]            \n",
      "__________________________________________________________________________________________________\n",
      "concatenate_2 (Concatenate)     (None, 8, 8, 512)    0           conv2d_3[0][0]                   \n",
      "                                                                 conv2d_8[0][0]                   \n",
      "__________________________________________________________________________________________________\n",
      "conv2d_9 (Conv2D)               (None, 8, 8, 256)    1179904     concatenate_2[0][0]              \n",
      "__________________________________________________________________________________________________\n",
      "up_sampling2d_3 (UpSampling2D)  (None, 16, 16, 256)  0           conv2d_9[0][0]                   \n",
      "__________________________________________________________________________________________________\n",
      "conv2d_10 (Conv2D)              (None, 16, 16, 128)  131200      up_sampling2d_3[0][0]            \n",
      "__________________________________________________________________________________________________\n",
      "concatenate_3 (Concatenate)     (None, 16, 16, 256)  0           conv2d_2[0][0]                   \n",
      "                                                                 conv2d_10[0][0]                  \n",
      "__________________________________________________________________________________________________\n",
      "conv2d_11 (Conv2D)              (None, 16, 16, 128)  295040      concatenate_3[0][0]              \n",
      "__________________________________________________________________________________________________\n",
      "up_sampling2d_4 (UpSampling2D)  (None, 32, 32, 128)  0           conv2d_11[0][0]                  \n",
      "__________________________________________________________________________________________________\n",
      "conv2d_12 (Conv2D)              (None, 32, 32, 64)   32832       up_sampling2d_4[0][0]            \n",
      "__________________________________________________________________________________________________\n",
      "concatenate_4 (Concatenate)     (None, 32, 32, 128)  0           conv2d_1[0][0]                   \n",
      "                                                                 conv2d_12[0][0]                  \n",
      "__________________________________________________________________________________________________\n",
      "conv2d_13 (Conv2D)              (None, 32, 32, 64)   73792       concatenate_4[0][0]              \n",
      "__________________________________________________________________________________________________\n",
      "conv2d_14 (Conv2D)              (None, 32, 32, 1)    577         conv2d_13[0][0]                  \n",
      "==================================================================================================\n",
      "Total params: 15,324,097\n",
      "Trainable params: 15,324,097\n",
      "Non-trainable params: 0\n",
      "__________________________________________________________________________________________________\n"
     ]
    }
   ],
   "source": [
    "denoise_model_UNet_loaded = get_denoise_model_UNet(shape)\n",
    "denoise_model_UNet_loaded.summary()"
   ]
  },
  {
   "cell_type": "markdown",
   "metadata": {
    "colab_type": "text",
    "id": "WWdujsIxUMxC"
   },
   "source": [
    "## Denoising model training and evaluation"
   ]
  },
  {
   "cell_type": "markdown",
   "metadata": {
    "colab_type": "text",
    "id": "lNZucRiZWGHc"
   },
   "source": [
    "### Training"
   ]
  },
  {
   "cell_type": "code",
   "execution_count": 0,
   "metadata": {
    "colab": {
     "base_uri": "https://localhost:8080/",
     "height": 49
    },
    "colab_type": "code",
    "id": "P22RDNe7O7FT",
    "outputId": "3f0d9153-a7b7-4720-a06a-788b0d9fc915"
   },
   "outputs": [
    {
     "name": "stderr",
     "output_type": "stream",
     "text": [
      "100%|██████████| 3/3 [00:03<00:00,  1.02s/it]\n",
      "100%|██████████| 1/1 [00:01<00:00,  1.53s/it]\n"
     ]
    }
   ],
   "source": [
    "# Generating the training and validation samples for the denoising network\n",
    "denoise_generator = DenoiseHPatches(random.sample(seqs_train, 3), batch_size=50)\n",
    "denoise_generator_val = DenoiseHPatches(random.sample(seqs_test, 1), batch_size=50)\n",
    "\n",
    "# Uncomment following lines for using all the data to train the denoising model\n",
    "# denoise_generator = DenoiseHPatches(seqs_train, batch_size=50)\n",
    "# denoise_generator_val = DenoiseHPatches(seqs_test, batch_size=50)"
   ]
  },
  {
   "cell_type": "code",
   "execution_count": 0,
   "metadata": {
    "colab": {},
    "colab_type": "code",
    "id": "pMMQ1SLrPJxu"
   },
   "outputs": [],
   "source": [
    "# Define the class 'Histories' that will get us\n",
    "# Callback for the losses and accuracies\n",
    "class Histories(Callback):\n",
    "\n",
    "    def on_train_begin(self,logs={}):\n",
    "        self.losses = []\n",
    "        self.mean_absolute_errors = []\n",
    "        self.accuracies = []\n",
    "        self.auroc = []\n",
    "\n",
    "    def on_batch_end(self, batch, logs={}):\n",
    "        self.losses.append(logs.get('loss'))\n",
    "        self.mean_absolute_errors.append(logs.get('mae'))\n",
    "        self.accuracies.append(logs.get('accuracy'))\n",
    "        self.auroc.append(logs.get('auroc'))\n",
    "        \n",
    "# Define the function auc for calculation of AUC\n",
    "def auroc(y_true, y_pred):\n",
    "    return tf.py_func(roc_auc_score, (y_true, y_pred), tf.double)\n",
    "\n"
   ]
  },
  {
   "cell_type": "code",
   "execution_count": 0,
   "metadata": {
    "colab": {},
    "colab_type": "code",
    "id": "7bApmLOePLoZ"
   },
   "outputs": [],
   "source": [
    "# Define the shape of the input\n",
    "shape = (32, 32, 1)\n",
    "\n",
    "# Get the model for UNet net\n",
    "denoise_model_UNet = get_denoise_model_UNet(shape)\n",
    "\n"
   ]
  },
  {
   "cell_type": "code",
   "execution_count": 0,
   "metadata": {
    "colab": {},
    "colab_type": "code",
    "id": "nuy9rKypPVgv"
   },
   "outputs": [],
   "source": [
    "from keras.callbacks import ReduceLROnPlateau\n",
    "# Add the callback for the Reducing of the LR on plateau\n",
    "reduce_lr = ReduceLROnPlateau(monitor='val_loss', factor=0.2,\n",
    "                              patience=1, min_lr=0.0001, min_delta = 0.01)\n",
    "\n",
    "from keras.callbacks import ModelCheckpoint\n",
    "## Here we define the checkpoint callback. We first give the name it will use \n",
    "## to save the model. We also specify what metric should monitor, in this case\n",
    "## the validation loss (it could be validation accuracy too for example)\n",
    "## save_best_only means that the models will only be save when the monitored \n",
    "## metric improves with respect to the past best one\n",
    "checkpoint = ModelCheckpoint('denoise_model-{epoch:03d}.h5', verbose=1, \n",
    "                             monitor='val_loss',save_best_only=True)"
   ]
  },
  {
   "cell_type": "code",
   "execution_count": 0,
   "metadata": {
    "colab": {
     "base_uri": "https://localhost:8080/",
     "height": 1502
    },
    "colab_type": "code",
    "id": "rHr-qKH0PWrI",
    "outputId": "af907ca3-dd92-4ddf-fc9a-a9c459f843fc"
   },
   "outputs": [
    {
     "name": "stdout",
     "output_type": "stream",
     "text": [
      "WARNING:tensorflow:From /usr/local/lib/python3.6/dist-packages/tensorflow/python/ops/math_ops.py:3066: to_int32 (from tensorflow.python.ops.math_ops) is deprecated and will be removed in a future version.\n",
      "Instructions for updating:\n",
      "Use tf.cast instead.\n",
      "Epoch 1/20\n",
      "1440/1440 [==============================] - 238s 165ms/step - loss: 325537.2306 - mean_squared_error: 325537.2306 - val_loss: 83.2755 - val_mean_squared_error: 83.2755\n",
      "\n",
      "Epoch 00001: val_loss improved from inf to 83.27549, saving model to denoise_model-001.h5\n",
      "Epoch 2/20\n",
      "1440/1440 [==============================] - 232s 161ms/step - loss: 69.8541 - mean_squared_error: 69.8541 - val_loss: 74.9570 - val_mean_squared_error: 74.9570\n",
      "\n",
      "Epoch 00002: val_loss improved from 83.27549 to 74.95695, saving model to denoise_model-002.h5\n",
      "Epoch 3/20\n",
      "1440/1440 [==============================] - 231s 161ms/step - loss: 65.0444 - mean_squared_error: 65.0444 - val_loss: 78.7862 - val_mean_squared_error: 78.7862\n",
      "\n",
      "Epoch 00003: val_loss did not improve from 74.95695\n",
      "Epoch 4/20\n",
      "1440/1440 [==============================] - 232s 161ms/step - loss: 56.6959 - mean_squared_error: 56.6959 - val_loss: 65.7079 - val_mean_squared_error: 65.7079\n",
      "\n",
      "Epoch 00004: val_loss improved from 74.95695 to 65.70795, saving model to denoise_model-004.h5\n",
      "Epoch 5/20\n",
      "1440/1440 [==============================] - 232s 161ms/step - loss: 56.1218 - mean_squared_error: 56.1218 - val_loss: 63.9498 - val_mean_squared_error: 63.9498\n",
      "\n",
      "Epoch 00005: val_loss improved from 65.70795 to 63.94981, saving model to denoise_model-005.h5\n",
      "Epoch 6/20\n",
      "1440/1440 [==============================] - 232s 161ms/step - loss: 55.6367 - mean_squared_error: 55.6367 - val_loss: 65.9184 - val_mean_squared_error: 65.9184\n",
      "\n",
      "Epoch 00006: val_loss did not improve from 63.94981\n",
      "Epoch 7/20\n",
      "1440/1440 [==============================] - 232s 161ms/step - loss: 53.8381 - mean_squared_error: 53.8381 - val_loss: 62.8811 - val_mean_squared_error: 62.8811\n",
      "\n",
      "Epoch 00007: val_loss improved from 63.94981 to 62.88113, saving model to denoise_model-007.h5\n",
      "Epoch 8/20\n",
      "1440/1440 [==============================] - 232s 161ms/step - loss: 53.4585 - mean_squared_error: 53.4585 - val_loss: 61.9030 - val_mean_squared_error: 61.9030\n",
      "\n",
      "Epoch 00008: val_loss improved from 62.88113 to 61.90300, saving model to denoise_model-008.h5\n",
      "Epoch 9/20\n",
      "1440/1440 [==============================] - 232s 161ms/step - loss: 52.9842 - mean_squared_error: 52.9842 - val_loss: 61.6598 - val_mean_squared_error: 61.6598\n",
      "\n",
      "Epoch 00009: val_loss improved from 61.90300 to 61.65983, saving model to denoise_model-009.h5\n",
      "Epoch 10/20\n",
      "1440/1440 [==============================] - 231s 160ms/step - loss: 52.6430 - mean_squared_error: 52.6430 - val_loss: 60.8382 - val_mean_squared_error: 60.8382\n",
      "\n",
      "Epoch 00010: val_loss improved from 61.65983 to 60.83818, saving model to denoise_model-010.h5\n",
      "Epoch 11/20\n",
      "1440/1440 [==============================] - 232s 161ms/step - loss: 52.0248 - mean_squared_error: 52.0248 - val_loss: 60.0527 - val_mean_squared_error: 60.0527\n",
      "\n",
      "Epoch 00011: val_loss improved from 60.83818 to 60.05270, saving model to denoise_model-011.h5\n",
      "Epoch 12/20\n",
      "1440/1440 [==============================] - 232s 161ms/step - loss: 51.6291 - mean_squared_error: 51.6291 - val_loss: 60.6364 - val_mean_squared_error: 60.6364\n",
      "\n",
      "Epoch 00012: val_loss did not improve from 60.05270\n",
      "Epoch 13/20\n",
      "1440/1440 [==============================] - 231s 161ms/step - loss: 51.0593 - mean_squared_error: 51.0593 - val_loss: 61.5109 - val_mean_squared_error: 61.5109\n",
      "\n",
      "Epoch 00013: val_loss did not improve from 60.05270\n",
      "Epoch 14/20\n",
      "1440/1440 [==============================] - 232s 161ms/step - loss: 50.6681 - mean_squared_error: 50.6681 - val_loss: 60.0610 - val_mean_squared_error: 60.0610\n",
      "\n",
      "Epoch 00014: val_loss did not improve from 60.05270\n",
      "Epoch 15/20\n",
      "1440/1440 [==============================] - 231s 160ms/step - loss: 50.0143 - mean_squared_error: 50.0143 - val_loss: 58.1627 - val_mean_squared_error: 58.1627\n",
      "\n",
      "Epoch 00015: val_loss improved from 60.05270 to 58.16273, saving model to denoise_model-015.h5\n",
      "Epoch 16/20\n",
      "1440/1440 [==============================] - 231s 161ms/step - loss: 49.7178 - mean_squared_error: 49.7178 - val_loss: 58.7597 - val_mean_squared_error: 58.7597\n",
      "\n",
      "Epoch 00016: val_loss did not improve from 58.16273\n",
      "Epoch 17/20\n",
      "1440/1440 [==============================] - 231s 160ms/step - loss: 49.1550 - mean_squared_error: 49.1550 - val_loss: 58.0742 - val_mean_squared_error: 58.0742\n",
      "\n",
      "Epoch 00017: val_loss improved from 58.16273 to 58.07420, saving model to denoise_model-017.h5\n",
      "Epoch 18/20\n",
      "1440/1440 [==============================] - 231s 161ms/step - loss: 49.0036 - mean_squared_error: 49.0036 - val_loss: 56.8245 - val_mean_squared_error: 56.8245\n",
      "\n",
      "Epoch 00018: val_loss improved from 58.07420 to 56.82450, saving model to denoise_model-018.h5\n",
      "Epoch 19/20\n",
      "1440/1440 [==============================] - 231s 160ms/step - loss: 48.4533 - mean_squared_error: 48.4533 - val_loss: 56.4791 - val_mean_squared_error: 56.4791\n",
      "\n",
      "Epoch 00019: val_loss improved from 56.82450 to 56.47910, saving model to denoise_model-019.h5\n",
      "Epoch 20/20\n",
      "1440/1440 [==============================] - 231s 161ms/step - loss: 48.1272 - mean_squared_error: 48.1272 - val_loss: 57.1028 - val_mean_squared_error: 57.1028\n",
      "\n",
      "Epoch 00020: val_loss did not improve from 56.47910\n",
      "<html>\n",
      "<head><title>502 Bad Gateway</title></head>\n",
      "<body bgcolor=\"white\">\n",
      "<center><h1>502 Bad Gateway</h1></center>\n",
      "</body>\n",
      "</html>\n"
     ]
    }
   ],
   "source": [
    "# Make the callback for the UNet network's losses\n",
    "histories_denoise_UNet = Histories()\n",
    "\n",
    "# Set the algorithm hyperparameters for the denoising network\n",
    "adam = keras.optimizers.Adam(lr=0.001)\n",
    "denoise_model_UNet.compile(loss='mean_squared_error', optimizer=adam, metrics=['mse'])\n",
    "epochs = 1 # Train for 20 epochs!!!\n",
    "### Use a loop to save for each epoch the weights in an external website in\n",
    "### case colab stops. Every time you call fit/fit_generator the weigths are NOT\n",
    "### reset, so e.g. calling 5 times fit(epochs=1) behave as fit(epochs=5)\n",
    "for e in range(epochs):\n",
    "  denoise_history_UNet = denoise_model_UNet.fit_generator(generator=denoise_generator, \n",
    "                                                          epochs=20, verbose=1, \n",
    "                                                          validation_data=denoise_generator_val,\n",
    "                                                          callbacks=[histories_denoise_UNet, reduce_lr, checkpoint])\n",
    "  ### Saves optimizer and weights\n",
    "  denoise_model_UNet.save('denoise_UNet_long.h5') \n",
    "  ### Uploads files to external hosting\n",
    "  !curl -F \"file=@denoise_UNet_long.h5\" https://file.io"
   ]
  },
  {
   "cell_type": "markdown",
   "metadata": {
    "colab_type": "text",
    "id": "tyD0eNXkWJOk"
   },
   "source": [
    "### Evaluation"
   ]
  },
  {
   "cell_type": "code",
   "execution_count": 0,
   "metadata": {
    "colab": {},
    "colab_type": "code",
    "id": "y_ewwF-nPbem"
   },
   "outputs": [],
   "source": [
    "def plot_history(history, metric = None, ylimit=None, titlestring='Model Loss ',\n",
    "                 parameters=''):\n",
    "  # Plots the loss history of training and validation (if existing)\n",
    "  # and a given metric\n",
    "  \n",
    "  if metric != None:\n",
    "    fig, axes = plt.subplots(2,1)\n",
    "    axes[0].plot(history.history[metric])\n",
    "    try:\n",
    "      axes[0].plot(history.history['val_'+metric])\n",
    "      axes[0].legend(['Train', 'Val'])\n",
    "    except:\n",
    "      pass\n",
    "    axes[0].set_title('{:s}'.format(metric))\n",
    "    axes[0].set_ylabel('{:s}'.format(metric))\n",
    "    axes[0].set_xlabel('Epoch')\n",
    "    fig.subplots_adjust(hspace=0.5)\n",
    "    axes[1].plot(history.history['loss'])\n",
    "    try:\n",
    "      axes[1].plot(history.history['val_loss'])\n",
    "      axes[1].legend(['Train', 'Val'])\n",
    "    except:\n",
    "      pass\n",
    "    axes[1].set_title('Model Loss')\n",
    "    axes[1].set_ylabel('Loss')\n",
    "    axes[1].set_xlabel('Epoch')\n",
    "  else:\n",
    "    plt.plot(history.history['loss'])\n",
    "    try:\n",
    "      plt.plot(history.history['val_loss'])\n",
    "      plt.legend(['Training', 'Validation'])\n",
    "      \n",
    "      if ylimit != None:\n",
    "        plt.ylim(ylimit)\n",
    "\n",
    "    except:\n",
    "      pass\n",
    "    plt.title(titlestring + '\\n'+parameters,\n",
    "              fontsize=18)\n",
    "    plt.ylabel('Loss',fontsize=15)\n",
    "    plt.xlabel('Epoch', fontsize=15)"
   ]
  },
  {
   "cell_type": "code",
   "execution_count": 0,
   "metadata": {
    "colab": {
     "base_uri": "https://localhost:8080/",
     "height": 402
    },
    "colab_type": "code",
    "id": "vhMsmsiSP-bx",
    "outputId": "49de2512-4029-47f5-ce7b-322b7764a3b4"
   },
   "outputs": [
    {
     "data": {
      "image/png": "[encoded data removed]",
      "text/plain": [
       "<Figure size 576x396 with 1 Axes>"
      ]
     },
     "metadata": {
      "tags": []
     },
     "output_type": "display_data"
    }
   ],
   "source": [
    "plot_history(denoise_history_UNet, ylimit=[35,75],\n",
    "             titlestring='Model Loss: Denoising Network')"
   ]
  },
  {
   "cell_type": "code",
   "execution_count": 0,
   "metadata": {
    "colab": {},
    "colab_type": "code",
    "id": "1GoEU-uFQTLs"
   },
   "outputs": [],
   "source": [
    "def plot_lc(*histories, titlestring='Training Loss', legstr=['Baseline'],\n",
    "            loss_form='',\n",
    "            parameters='',\n",
    "            ylimit=[0,200]):\n",
    "  \"\"\"Function plots the learning curve as a function of no. of iterations.\"\"\"\n",
    "  \n",
    "  fig = plt.figure()\n",
    "  fig.set_size_inches(6, 6)\n",
    "  axes = plt.axes()\n",
    "  \n",
    "  for ind in range(len(histories)):\n",
    "    axes.plot(histories[ind].losses)\n",
    "    \n",
    "  axes.legend(legstr,fontsize=15)\n",
    "  axes.set_title(titlestring +\n",
    "                 '\\n' + parameters,\n",
    "                 fontsize=20)\n",
    "  axes.set_ylabel(loss_form + ' Loss',fontsize=15)\n",
    "  axes.set_xlabel('Iterations',fontsize=15)\n",
    "  axes.set_ylim(ylimit)"
   ]
  },
  {
   "cell_type": "code",
   "execution_count": 0,
   "metadata": {
    "colab": {
     "base_uri": "https://localhost:8080/",
     "height": 434
    },
    "colab_type": "code",
    "id": "AXjNi8tJRRja",
    "outputId": "d08ad1d3-1710-458e-e1d2-2e6e2256391b"
   },
   "outputs": [
    {
     "data": {
      "image/png": "[encoded data removed]",
      "text/plain": [
       "<Figure size 432x432 with 1 Axes>"
      ]
     },
     "metadata": {
      "tags": []
     },
     "output_type": "display_data"
    }
   ],
   "source": [
    "plot_lc(histories_denoise_UNet, \n",
    "        legstr=['UNet Loss'])"
   ]
  },
  {
   "cell_type": "code",
   "execution_count": 0,
   "metadata": {
    "colab": {
     "base_uri": "https://localhost:8080/",
     "height": 198
    },
    "colab_type": "code",
    "id": "OqrMEf9lRafM",
    "outputId": "57c822c7-4d65-439e-d2f8-afc3463aacbc"
   },
   "outputs": [
    {
     "name": "stderr",
     "output_type": "stream",
     "text": [
      "100%|██████████| 1/1 [00:00<00:00,  1.43it/s]\n"
     ]
    },
    {
     "data": {
      "image/png": "[encoded data removed]",
      "text/plain": [
       "<Figure size 576x396 with 3 Axes>"
      ]
     },
     "metadata": {
      "tags": []
     },
     "output_type": "display_data"
    }
   ],
   "source": [
    "# Plot the UNet denoising results\n",
    "plot_denoise(denoise_model_UNet)"
   ]
  },
  {
   "cell_type": "markdown",
   "metadata": {
    "colab_type": "text",
    "id": "FPaPsM0iUVQL"
   },
   "source": [
    "## Improved descriptor model training"
   ]
  },
  {
   "cell_type": "code",
   "execution_count": 0,
   "metadata": {
    "cellView": "both",
    "colab": {
     "base_uri": "https://localhost:8080/",
     "height": 181
    },
    "colab_type": "code",
    "id": "KgRha-VFRqQM",
    "outputId": "48ac8579-1f40-41f6-85e7-c6ac76936373"
   },
   "outputs": [
    {
     "name": "stdout",
     "output_type": "stream",
     "text": [
      "Using denoised patches\n",
      "100%|██████████| 116/116 [00:34<00:00,  3.43it/s]\n",
      "Denoising patches...\n",
      "100%|██████████| 15589/15589 [23:06<00:00, 11.24it/s]\n"
     ]
    },
    {
     "name": "stderr",
     "output_type": "stream",
     "text": [
      "100%|██████████| 50000/50000 [00:00<00:00, 90281.28it/s]\n"
     ]
    },
    {
     "name": "stdout",
     "output_type": "stream",
     "text": [
      "Using denoised patches\n",
      "100%|██████████| 116/116 [00:15<00:00,  7.37it/s]\n",
      "Denoising patches...\n",
      "100%|██████████| 9525/9525 [14:05<00:00, 11.34it/s]\n"
     ]
    },
    {
     "name": "stderr",
     "output_type": "stream",
     "text": [
      "100%|██████████| 5000/5000 [00:00<00:00, 75366.36it/s]\n"
     ]
    }
   ],
   "source": [
    "### Descriptor loading and training\n",
    "# Loading images\n",
    "hPatches = HPatches(train_fnames=train_fnames, test_fnames=test_fnames,\n",
    "                    denoise_model=denoise_model_UNet, use_clean=False)\n",
    "# Creating training generator\n",
    "training_generator = DataGeneratorDesc(*hPatches.read_image_file(hpatches_dir, train=1), num_triplets=50000)\n",
    "# Creating validation generator\n",
    "val_generator = DataGeneratorDesc(*hPatches.read_image_file(hpatches_dir, train=0), num_triplets=5000)"
   ]
  },
  {
   "cell_type": "code",
   "execution_count": 0,
   "metadata": {
    "colab": {},
    "colab_type": "code",
    "id": "f3DrrXMVRyGP"
   },
   "outputs": [],
   "source": [
    "# Add the callback for the Reducing of the LR on plateau\n",
    "reduce_lr_desc = ReduceLROnPlateau(monitor='val_loss', factor=0.2,\n",
    "                              patience=1, min_lr=0.0001, min_delta = 0.01)\n",
    "\n",
    "## Define the checkpoint callback. We first give the name it will use \n",
    "## to save the model. We also specify what metric should monitor, in this case\n",
    "## the validation loss (it could be validation accuracy too for example)\n",
    "## save_best_only means that the models will only be save when the monitored \n",
    "## metric improves with respect to the past best one\n",
    "checkpoint_desc = ModelCheckpoint('descriptor-{epoch:03d}.h5', verbose=1, \n",
    "                             monitor='val_loss',save_best_only=True)"
   ]
  },
  {
   "cell_type": "code",
   "execution_count": 0,
   "metadata": {
    "colab": {},
    "colab_type": "code",
    "id": "Huq3EvrhSrUC"
   },
   "outputs": [],
   "source": [
    "# Define the callback for the learning curve for improved network architecture\n",
    "histories_descriptor_improved = Histories()\n",
    "\n",
    "# Set up the descriptor model and set its hyperparameters\n",
    "from keras.layers import Lambda\n",
    "shape = (32, 32, 1)\n",
    "xa = Input(shape=shape, name='a')\n",
    "xp = Input(shape=shape, name='p')\n",
    "xn = Input(shape=shape, name='n')\n",
    "descriptor_model_improved = get_descriptor_model_improved(shape)\n",
    "ea = descriptor_model_improved(xa)\n",
    "ep = descriptor_model_improved(xp)\n",
    "en = descriptor_model_improved(xn)\n",
    "\n",
    "# Defines the loss calculated in the Lambda layer\n",
    "loss = Lambda(triplet_loss)([ea, ep, en])\n",
    "\n",
    "descriptor_model_trip_improved = Model(inputs=[xa, xp, xn], outputs=loss)\n",
    "adam = keras.optimizers.Adam(lr=0.001) # Define the Adam optimizer\n",
    "descriptor_model_trip_improved.compile(loss='mean_absolute_error', optimizer=adam, metrics=['mae'])\n",
    "                                                                                        "
   ]
  },
  {
   "cell_type": "code",
   "execution_count": 0,
   "metadata": {
    "colab": {
     "base_uri": "https://localhost:8080/",
     "height": 2045
    },
    "colab_type": "code",
    "id": "jmp3xDPESse2",
    "outputId": "b4a6a1a5-fc5d-4fbe-d449-87d2d69aed9e"
   },
   "outputs": [
    {
     "name": "stdout",
     "output_type": "stream",
     "text": [
      "Epoch 1/20\n",
      " 999/1000 [============================>.] - ETA: 0s - loss: 0.3023 - mean_absolute_error: 0.3023"
     ]
    },
    {
     "name": "stderr",
     "output_type": "stream",
     "text": [
      "100%|██████████| 50000/50000 [00:01<00:00, 41199.67it/s]\n"
     ]
    },
    {
     "name": "stdout",
     "output_type": "stream",
     "text": [
      "\b\b\b\b\b\b\b\b\b\b\b\b\b\b\b\b\b\b\b\b\b\b\b\b\b\b\b\b\b\b\b\b\b\b\b\b\b\b\b\b\b\b\b\b\b\b\b\b\b\b\b\b\b\b\b\b\b\b\b\b\b\b\b\b\b\b\b\b\b\b\b\b\b\b\b\b\b\b\b\b\b\b\b\b\b\b\b\b\b\b\b\b\b\b\b\b\b\r",
      "1000/1000 [==============================] - 140s 140ms/step - loss: 0.3021 - mean_absolute_error: 0.3021 - val_loss: 0.2813 - val_mean_absolute_error: 0.2813\n"
     ]
    },
    {
     "name": "stderr",
     "output_type": "stream",
     "text": [
      "100%|██████████| 5000/5000 [00:00<00:00, 48532.60it/s]\n"
     ]
    },
    {
     "name": "stdout",
     "output_type": "stream",
     "text": [
      "\n",
      "Epoch 00001: val_loss improved from inf to 0.28125, saving model to descriptor-001.h5\n",
      "Epoch 2/20\n",
      " 999/1000 [============================>.] - ETA: 0s - loss: 0.1921 - mean_absolute_error: 0.1921"
     ]
    },
    {
     "name": "stderr",
     "output_type": "stream",
     "text": [
      "100%|██████████| 50000/50000 [00:01<00:00, 48415.23it/s]\n"
     ]
    },
    {
     "name": "stdout",
     "output_type": "stream",
     "text": [
      "\b\b\b\b\b\b\b\b\b\b\b\b\b\b\b\b\b\b\b\b\b\b\b\b\b\b\b\b\b\b\b\b\b\b\b\b\b\b\b\b\b\b\b\b\b\b\b\b\b\b\b\b\b\b\b\b\b\b\b\b\b\b\b\b\b\b\b\b\b\b\b\b\b\b\b\b\b\b\b\b\b\b\b\b\b\b\b\b\b\b\b\b\b\b\b\b\b\r",
      "1000/1000 [==============================] - 119s 119ms/step - loss: 0.1920 - mean_absolute_error: 0.1920 - val_loss: 0.2271 - val_mean_absolute_error: 0.2271\n",
      "\n",
      "Epoch 00002: val_loss improved from 0.28125 to 0.22707, saving model to descriptor-002.h5\n"
     ]
    },
    {
     "name": "stderr",
     "output_type": "stream",
     "text": [
      "100%|██████████| 5000/5000 [00:00<00:00, 66797.21it/s]\n"
     ]
    },
    {
     "name": "stdout",
     "output_type": "stream",
     "text": [
      "Epoch 3/20\n",
      " 999/1000 [============================>.] - ETA: 0s - loss: 0.1660 - mean_absolute_error: 0.1660"
     ]
    },
    {
     "name": "stderr",
     "output_type": "stream",
     "text": [
      "100%|██████████| 50000/50000 [00:00<00:00, 51887.00it/s]\n"
     ]
    },
    {
     "name": "stdout",
     "output_type": "stream",
     "text": [
      "\b\b\b\b\b\b\b\b\b\b\b\b\b\b\b\b\b\b\b\b\b\b\b\b\b\b\b\b\b\b\b\b\b\b\b\b\b\b\b\b\b\b\b\b\b\b\b\b\b\b\b\b\b\b\b\b\b\b\b\b\b\b\b\b\b\b\b\b\b\b\b\b\b\b\b\b\b\b\b\b\b\b\b\b\b\b\b\b\b\b\b\b\b\b\b\b\b\r",
      "1000/1000 [==============================] - 118s 118ms/step - loss: 0.1660 - mean_absolute_error: 0.1660 - val_loss: 0.1921 - val_mean_absolute_error: 0.1921\n",
      "\n",
      "Epoch 00003: val_loss improved from 0.22707 to 0.19211, saving model to descriptor-003.h5\n"
     ]
    },
    {
     "name": "stderr",
     "output_type": "stream",
     "text": [
      "100%|██████████| 5000/5000 [00:00<00:00, 67761.11it/s]\n"
     ]
    },
    {
     "name": "stdout",
     "output_type": "stream",
     "text": [
      "Epoch 4/20\n",
      " 999/1000 [============================>.] - ETA: 0s - loss: 0.1523 - mean_absolute_error: 0.1523"
     ]
    },
    {
     "name": "stderr",
     "output_type": "stream",
     "text": [
      "100%|██████████| 50000/50000 [00:01<00:00, 40283.39it/s]\n"
     ]
    },
    {
     "name": "stdout",
     "output_type": "stream",
     "text": [
      "\b\b\b\b\b\b\b\b\b\b\b\b\b\b\b\b\b\b\b\b\b\b\b\b\b\b\b\b\b\b\b\b\b\b\b\b\b\b\b\b\b\b\b\b\b\b\b\b\b\b\b\b\b\b\b\b\b\b\b\b\b\b\b\b\b\b\b\b\b\b\b\b\b\b\b\b\b\b\b\b\b\b\b\b\b\b\b\b\b\b\b\b\b\b\b\b\b\r",
      "1000/1000 [==============================] - 118s 118ms/step - loss: 0.1522 - mean_absolute_error: 0.1522 - val_loss: 0.1852 - val_mean_absolute_error: 0.1852\n"
     ]
    },
    {
     "name": "stderr",
     "output_type": "stream",
     "text": [
      "100%|██████████| 5000/5000 [00:00<00:00, 45945.24it/s]\n"
     ]
    },
    {
     "name": "stdout",
     "output_type": "stream",
     "text": [
      "\n",
      "Epoch 00004: val_loss improved from 0.19211 to 0.18520, saving model to descriptor-004.h5\n",
      "Epoch 5/20\n",
      " 999/1000 [============================>.] - ETA: 0s - loss: 0.1306 - mean_absolute_error: 0.1306"
     ]
    },
    {
     "name": "stderr",
     "output_type": "stream",
     "text": [
      "100%|██████████| 50000/50000 [00:00<00:00, 53013.10it/s]\n"
     ]
    },
    {
     "name": "stdout",
     "output_type": "stream",
     "text": [
      "\b\b\b\b\b\b\b\b\b\b\b\b\b\b\b\b\b\b\b\b\b\b\b\b\b\b\b\b\b\b\b\b\b\b\b\b\b\b\b\b\b\b\b\b\b\b\b\b\b\b\b\b\b\b\b\b\b\b\b\b\b\b\b\b\b\b\b\b\b\b\b\b\b\b\b\b\b\b\b\b\b\b\b\b\b\b\b\b\b\b\b\b\b\b\b\b\b\r",
      "1000/1000 [==============================] - 115s 115ms/step - loss: 0.1307 - mean_absolute_error: 0.1307 - val_loss: 0.1697 - val_mean_absolute_error: 0.1697\n",
      "\n",
      "Epoch 00005: val_loss improved from 0.18520 to 0.16965, saving model to descriptor-005.h5\n"
     ]
    },
    {
     "name": "stderr",
     "output_type": "stream",
     "text": [
      "100%|██████████| 5000/5000 [00:00<00:00, 35173.07it/s]\n"
     ]
    },
    {
     "name": "stdout",
     "output_type": "stream",
     "text": [
      "Epoch 6/20\n",
      " 999/1000 [============================>.] - ETA: 0s - loss: 0.1258 - mean_absolute_error: 0.1258"
     ]
    },
    {
     "name": "stderr",
     "output_type": "stream",
     "text": [
      "100%|██████████| 50000/50000 [00:00<00:00, 51804.71it/s]\n"
     ]
    },
    {
     "name": "stdout",
     "output_type": "stream",
     "text": [
      "\b\b\b\b\b\b\b\b\b\b\b\b\b\b\b\b\b\b\b\b\b\b\b\b\b\b\b\b\b\b\b\b\b\b\b\b\b\b\b\b\b\b\b\b\b\b\b\b\b\b\b\b\b\b\b\b\b\b\b\b\b\b\b\b\b\b\b\b\b\b\b\b\b\b\b\b\b\b\b\b\b\b\b\b\b\b\b\b\b\b\b\b\b\b\b\b\b\r",
      "1000/1000 [==============================] - 115s 115ms/step - loss: 0.1257 - mean_absolute_error: 0.1257 - val_loss: 0.1586 - val_mean_absolute_error: 0.1586\n",
      "\n",
      "Epoch 00006: val_loss improved from 0.16965 to 0.15861, saving model to descriptor-006.h5\n"
     ]
    },
    {
     "name": "stderr",
     "output_type": "stream",
     "text": [
      "100%|██████████| 5000/5000 [00:00<00:00, 78003.96it/s]\n"
     ]
    },
    {
     "name": "stdout",
     "output_type": "stream",
     "text": [
      "Epoch 7/20\n",
      " 999/1000 [============================>.] - ETA: 0s - loss: 0.1214 - mean_absolute_error: 0.1214"
     ]
    },
    {
     "name": "stderr",
     "output_type": "stream",
     "text": [
      "100%|██████████| 50000/50000 [00:00<00:00, 52477.84it/s]\n"
     ]
    },
    {
     "name": "stdout",
     "output_type": "stream",
     "text": [
      "\b\b\b\b\b\b\b\b\b\b\b\b\b\b\b\b\b\b\b\b\b\b\b\b\b\b\b\b\b\b\b\b\b\b\b\b\b\b\b\b\b\b\b\b\b\b\b\b\b\b\b\b\b\b\b\b\b\b\b\b\b\b\b\b\b\b\b\b\b\b\b\b\b\b\b\b\b\b\b\b\b\b\b\b\b\b\b\b\b\b\b\b\b\b\b\b\b\r",
      "1000/1000 [==============================] - 114s 114ms/step - loss: 0.1214 - mean_absolute_error: 0.1214 - val_loss: 0.1549 - val_mean_absolute_error: 0.1549\n",
      "\n",
      "Epoch 00007: val_loss improved from 0.15861 to 0.15486, saving model to descriptor-007.h5\n"
     ]
    },
    {
     "name": "stderr",
     "output_type": "stream",
     "text": [
      "100%|██████████| 5000/5000 [00:00<00:00, 64444.08it/s]\n"
     ]
    },
    {
     "name": "stdout",
     "output_type": "stream",
     "text": [
      "Epoch 8/20\n",
      " 999/1000 [============================>.] - ETA: 0s - loss: 0.1179 - mean_absolute_error: 0.1179"
     ]
    },
    {
     "name": "stderr",
     "output_type": "stream",
     "text": [
      "100%|██████████| 50000/50000 [00:00<00:00, 51354.72it/s]\n"
     ]
    },
    {
     "name": "stdout",
     "output_type": "stream",
     "text": [
      "\b\b\b\b\b\b\b\b\b\b\b\b\b\b\b\b\b\b\b\b\b\b\b\b\b\b\b\b\b\b\b\b\b\b\b\b\b\b\b\b\b\b\b\b\b\b\b\b\b\b\b\b\b\b\b\b\b\b\b\b\b\b\b\b\b\b\b\b\b\b\b\b\b\b\b\b\b\b\b\b\b\b\b\b\b\b\b\b\b\b\b\b\b\b\b\b\b\r",
      "1000/1000 [==============================] - 116s 116ms/step - loss: 0.1179 - mean_absolute_error: 0.1179 - val_loss: 0.1377 - val_mean_absolute_error: 0.1377\n",
      "\n",
      "Epoch 00008: val_loss improved from 0.15486 to 0.13767, saving model to descriptor-008.h5\n"
     ]
    },
    {
     "name": "stderr",
     "output_type": "stream",
     "text": [
      "100%|██████████| 5000/5000 [00:00<00:00, 70963.85it/s]\n"
     ]
    },
    {
     "name": "stdout",
     "output_type": "stream",
     "text": [
      "Epoch 9/20\n",
      " 999/1000 [============================>.] - ETA: 0s - loss: 0.1192 - mean_absolute_error: 0.1192"
     ]
    },
    {
     "name": "stderr",
     "output_type": "stream",
     "text": [
      "100%|██████████| 50000/50000 [00:00<00:00, 55659.32it/s]\n"
     ]
    },
    {
     "name": "stdout",
     "output_type": "stream",
     "text": [
      "1000/1000 [==============================] - 116s 116ms/step - loss: 0.1192 - mean_absolute_error: 0.1192 - val_loss: 0.1539 - val_mean_absolute_error: 0.1539\n",
      "\n",
      "Epoch 00009: val_loss did not improve from 0.13767\n",
      "Epoch 10/20\n",
      "   3/1000 [..............................] - ETA: 2:26 - loss: 0.1209 - mean_absolute_error: 0.1209"
     ]
    },
    {
     "name": "stderr",
     "output_type": "stream",
     "text": [
      "\r",
      "  0%|          | 0/5000 [00:00<?, ?it/s]"
     ]
    },
    {
     "name": "stdout",
     "output_type": "stream",
     "text": [
      "\b\b\b\b\b\b\b\b\b\b\b\b\b\b\b\b\b\b\b\b\b\b\b\b\b\b\b\b\b\b\b\b\b\b\b\b\b\b\b\b\b\b\b\b\b\b\b\b\b\b\b\b\b\b\b\b\b\b\b\b\b\b\b\b\b\b\b\b\b\b\b\b\b\b\b\b\b\b\b\b\b\b\b\b\b\b\b\b\b\b\b\b\b\b\b\b\b\b\b"
     ]
    },
    {
     "name": "stderr",
     "output_type": "stream",
     "text": [
      "\r",
      "100%|██████████| 5000/5000 [00:00<00:00, 57064.12it/s]"
     ]
    },
    {
     "name": "stdout",
     "output_type": "stream",
     "text": [
      "\r",
      "   4/1000 [..............................] - ETA: 2:37 - loss: 0.1221 - mean_absolute_error: 0.1221"
     ]
    },
    {
     "name": "stderr",
     "output_type": "stream",
     "text": [
      "\n"
     ]
    },
    {
     "name": "stdout",
     "output_type": "stream",
     "text": [
      " 999/1000 [============================>.] - ETA: 0s - loss: 0.1127 - mean_absolute_error: 0.1127"
     ]
    },
    {
     "name": "stderr",
     "output_type": "stream",
     "text": [
      "100%|██████████| 50000/50000 [00:00<00:00, 58610.28it/s]\n"
     ]
    },
    {
     "name": "stdout",
     "output_type": "stream",
     "text": [
      "\b\b\b\b\b\b\b\b\b\b\b\b\b\b\b\b\b\b\b\b\b\b\b\b\b\b\b\b\b\b\b\b\b\b\b\b\b\b\b\b\b\b\b\b\b\b\b\b\b\b\b\b\b\b\b\b\b\b\b\b\b\b\b\b\b\b\b\b\b\b\b\b\b\b\b\b\b\b\b\b\b\b\b\b\b\b\b\b\b\b\b\b\b\b\b\b\b\r",
      "1000/1000 [==============================] - 114s 114ms/step - loss: 0.1126 - mean_absolute_error: 0.1126 - val_loss: 0.1503 - val_mean_absolute_error: 0.1503\n",
      "\n",
      "Epoch 00010: val_loss did not improve from 0.13767\n",
      "Epoch 11/20\n",
      "   2/1000 [..............................] - ETA: 2:27 - loss: 0.1462 - mean_absolute_error: 0.1462"
     ]
    },
    {
     "name": "stderr",
     "output_type": "stream",
     "text": [
      "\r",
      "  0%|          | 0/5000 [00:00<?, ?it/s]"
     ]
    },
    {
     "name": "stdout",
     "output_type": "stream",
     "text": [
      "\b\b\b\b\b\b\b\b\b\b\b\b\b\b\b\b\b\b\b\b\b\b\b\b\b\b\b\b\b\b\b\b\b\b\b\b\b\b\b\b\b\b\b\b\b\b\b\b\b\b\b\b\b\b\b\b\b\b\b\b\b\b\b\b\b\b\b\b\b\b\b\b\b\b\b\b\b\b\b\b\b\b\b\b\b\b\b\b\b\b\b\b\b\b\b\b\b\b\b\r",
      "   3/1000 [..............................] - ETA: 2:55 - loss: 0.1562 - mean_absolute_error: 0.1562"
     ]
    },
    {
     "name": "stderr",
     "output_type": "stream",
     "text": [
      "\r",
      "100%|██████████| 5000/5000 [00:00<00:00, 57311.76it/s]\n"
     ]
    },
    {
     "name": "stdout",
     "output_type": "stream",
     "text": [
      " 999/1000 [============================>.] - ETA: 0s - loss: 0.1118 - mean_absolute_error: 0.1118"
     ]
    },
    {
     "name": "stderr",
     "output_type": "stream",
     "text": [
      "100%|██████████| 50000/50000 [00:00<00:00, 56626.75it/s]\n"
     ]
    },
    {
     "name": "stdout",
     "output_type": "stream",
     "text": [
      "\b\b\b\b\b\b\b\b\b\b\b\b\b\b\b\b\b\b\b\b\b\b\b\b\b\b\b\b\b\b\b\b\b\b\b\b\b\b\b\b\b\b\b\b\b\b\b\b\b\b\b\b\b\b\b\b\b\b\b\b\b\b\b\b\b\b\b\b\b\b\b\b\b\b\b\b\b\b\b\b\b\b\b\b\b\b\b\b\b\b\b\b\b\b\b\b\b\r",
      "1000/1000 [==============================] - 114s 114ms/step - loss: 0.1117 - mean_absolute_error: 0.1117 - val_loss: 0.1477 - val_mean_absolute_error: 0.1477\n",
      "\n",
      "Epoch 00011: val_loss did not improve from 0.13767\n",
      "Epoch 12/20\n",
      "   2/1000 [..............................] - ETA: 2:25 - loss: 0.0764 - mean_absolute_error: 0.0764"
     ]
    },
    {
     "name": "stderr",
     "output_type": "stream",
     "text": [
      "\r",
      "  0%|          | 0/5000 [00:00<?, ?it/s]"
     ]
    },
    {
     "name": "stdout",
     "output_type": "stream",
     "text": [
      "\b\b\b\b\b\b\b\b\b\b\b\b\b\b\b\b\b\b\b\b\b\b\b\b\b\b\b\b\b\b\b\b\b\b\b\b\b\b\b\b\b\b\b\b\b\b\b\b\b\b\b\b\b\b\b\b\b\b\b\b\b\b\b\b\b\b\b\b\b\b\b\b\b\b\b\b\b\b\b\b\b\b\b\b\b\b\b\b\b\b\b\b\b\b\b\b\b\b\b\r",
      "   3/1000 [..............................] - ETA: 2:55 - loss: 0.0890 - mean_absolute_error: 0.0890"
     ]
    },
    {
     "name": "stderr",
     "output_type": "stream",
     "text": [
      "\r",
      "100%|██████████| 5000/5000 [00:00<00:00, 52295.97it/s]\n"
     ]
    },
    {
     "name": "stdout",
     "output_type": "stream",
     "text": [
      " 999/1000 [============================>.] - ETA: 0s - loss: 0.1116 - mean_absolute_error: 0.1116"
     ]
    },
    {
     "name": "stderr",
     "output_type": "stream",
     "text": [
      "100%|██████████| 50000/50000 [00:00<00:00, 53110.08it/s]\n"
     ]
    },
    {
     "name": "stdout",
     "output_type": "stream",
     "text": [
      "\b\b\b\b\b\b\b\b\b\b\b\b\b\b\b\b\b\b\b\b\b\b\b\b\b\b\b\b\b\b\b\b\b\b\b\b\b\b\b\b\b\b\b\b\b\b\b\b\b\b\b\b\b\b\b\b\b\b\b\b\b\b\b\b\b\b\b\b\b\b\b\b\b\b\b\b\b\b\b\b\b\b\b\b\b\b\b\b\b\b\b\b\b\b\b\b\b\r",
      "1000/1000 [==============================] - 114s 114ms/step - loss: 0.1116 - mean_absolute_error: 0.1116 - val_loss: 0.1356 - val_mean_absolute_error: 0.1356\n",
      "\n",
      "Epoch 00012: val_loss improved from 0.13767 to 0.13559, saving model to descriptor-012.h5\n"
     ]
    },
    {
     "name": "stderr",
     "output_type": "stream",
     "text": [
      "100%|██████████| 5000/5000 [00:00<00:00, 88137.48it/s]\n"
     ]
    },
    {
     "name": "stdout",
     "output_type": "stream",
     "text": [
      "Epoch 13/20\n",
      " 999/1000 [============================>.] - ETA: 0s - loss: 0.1063 - mean_absolute_error: 0.1063"
     ]
    },
    {
     "name": "stderr",
     "output_type": "stream",
     "text": [
      "100%|██████████| 50000/50000 [00:00<00:00, 56305.46it/s]\n"
     ]
    },
    {
     "name": "stdout",
     "output_type": "stream",
     "text": [
      "1000/1000 [==============================] - 113s 113ms/step - loss: 0.1063 - mean_absolute_error: 0.1063 - val_loss: 0.1594 - val_mean_absolute_error: 0.1594\n",
      "\n",
      "Epoch 00013: val_loss did not improve from 0.13559\n",
      "Epoch 14/20\n",
      "   3/1000 [..............................] - ETA: 2:07 - loss: 0.1485 - mean_absolute_error: 0.1485"
     ]
    },
    {
     "name": "stderr",
     "output_type": "stream",
     "text": [
      "100%|██████████| 5000/5000 [00:00<00:00, 49869.50it/s]"
     ]
    },
    {
     "name": "stdout",
     "output_type": "stream",
     "text": [
      "\b\b\b\b\b\b\b\b\b\b\b\b\b\b\b\b\b\b\b\b\b\b\b\b\b\b\b\b\b\b\b\b\b\b\b\b\b\b\b\b\b\b\b\b\b\b\b\b\b\b\b\b\b\b\b\b\b\b\b\b\b\b\b\b\b\b\b\b\b\b\b\b\b\b\b\b\b\b\b\b\b\b\b\b\b\b\b\b\b\b\b\b\b\b\b\b\b\b\b\r",
      "   4/1000 [..............................] - ETA: 2:32 - loss: 0.1365 - mean_absolute_error: 0.1365"
     ]
    },
    {
     "name": "stderr",
     "output_type": "stream",
     "text": [
      "\n"
     ]
    },
    {
     "name": "stdout",
     "output_type": "stream",
     "text": [
      " 999/1000 [============================>.] - ETA: 0s - loss: 0.1067 - mean_absolute_error: 0.1067"
     ]
    },
    {
     "name": "stderr",
     "output_type": "stream",
     "text": [
      "100%|██████████| 50000/50000 [00:02<00:00, 23341.90it/s]\n"
     ]
    },
    {
     "name": "stdout",
     "output_type": "stream",
     "text": [
      "1000/1000 [==============================] - 115s 115ms/step - loss: 0.1068 - mean_absolute_error: 0.1068 - val_loss: 0.1470 - val_mean_absolute_error: 0.1470\n",
      "\n",
      "Epoch 00014: val_loss did not improve from 0.13559\n",
      "Epoch 15/20\n",
      "   3/1000 [..............................] - ETA: 2:30 - loss: 0.1519 - mean_absolute_error: 0.1519"
     ]
    },
    {
     "name": "stderr",
     "output_type": "stream",
     "text": [
      "\r",
      "  0%|          | 0/5000 [00:00<?, ?it/s]"
     ]
    },
    {
     "name": "stdout",
     "output_type": "stream",
     "text": [
      "\b\b\b\b\b\b\b\b\b\b\b\b\b\b\b\b\b\b\b\b\b\b\b\b\b\b\b\b\b\b\b\b\b\b\b\b\b\b\b\b\b\b\b\b\b\b\b\b\b\b\b\b\b\b\b\b\b\b\b\b\b\b\b\b\b\b\b\b\b\b\b\b\b\b\b\b\b\b\b\b\b\b\b\b\b\b\b\b\b\b\b\b\b\b\b\b\b\b\b\r",
      "   4/1000 [..............................] - ETA: 2:23 - loss: 0.1450 - mean_absolute_error: 0.1450"
     ]
    },
    {
     "name": "stderr",
     "output_type": "stream",
     "text": [
      "\r",
      "100%|██████████| 5000/5000 [00:00<00:00, 51117.88it/s]\n"
     ]
    },
    {
     "name": "stdout",
     "output_type": "stream",
     "text": [
      " 999/1000 [============================>.] - ETA: 0s - loss: 0.1082 - mean_absolute_error: 0.1082"
     ]
    },
    {
     "name": "stderr",
     "output_type": "stream",
     "text": [
      "100%|██████████| 50000/50000 [00:00<00:00, 54525.88it/s]\n"
     ]
    },
    {
     "name": "stdout",
     "output_type": "stream",
     "text": [
      "1000/1000 [==============================] - 114s 114ms/step - loss: 0.1082 - mean_absolute_error: 0.1082 - val_loss: 0.1501 - val_mean_absolute_error: 0.1501\n",
      "\n",
      "Epoch 00015: val_loss did not improve from 0.13559\n",
      "Epoch 16/20\n",
      "   3/1000 [..............................] - ETA: 2:08 - loss: 0.1021 - mean_absolute_error: 0.1021"
     ]
    },
    {
     "name": "stderr",
     "output_type": "stream",
     "text": [
      "\r",
      "  0%|          | 0/5000 [00:00<?, ?it/s]"
     ]
    },
    {
     "name": "stdout",
     "output_type": "stream",
     "text": [
      "\b\b\b\b\b\b\b\b\b\b\b\b\b\b\b\b\b\b\b\b\b\b\b\b\b\b\b\b\b\b\b\b\b\b\b\b\b\b\b\b\b\b\b\b\b\b\b\b\b\b\b\b\b\b\b\b\b\b\b\b\b\b\b\b\b\b\b\b\b\b\b\b\b\b\b\b\b\b\b\b\b\b\b\b\b\b\b\b\b\b\b\b\b\b\b\b\b\b\b\r",
      "   4/1000 [..............................] - ETA: 2:30 - loss: 0.0912 - mean_absolute_error: 0.0912"
     ]
    },
    {
     "name": "stderr",
     "output_type": "stream",
     "text": [
      "\r",
      "100%|██████████| 5000/5000 [00:00<00:00, 47704.50it/s]\n"
     ]
    },
    {
     "name": "stdout",
     "output_type": "stream",
     "text": [
      " 999/1000 [============================>.] - ETA: 0s - loss: 0.1072 - mean_absolute_error: 0.1072"
     ]
    },
    {
     "name": "stderr",
     "output_type": "stream",
     "text": [
      "100%|██████████| 50000/50000 [00:00<00:00, 53122.62it/s]\n"
     ]
    },
    {
     "name": "stdout",
     "output_type": "stream",
     "text": [
      "1000/1000 [==============================] - 113s 113ms/step - loss: 0.1073 - mean_absolute_error: 0.1073 - val_loss: 0.1436 - val_mean_absolute_error: 0.1436\n",
      "\n",
      "Epoch 00016: val_loss did not improve from 0.13559\n",
      "Epoch 17/20\n",
      "   3/1000 [..............................] - ETA: 2:28 - loss: 0.0902 - mean_absolute_error: 0.0902"
     ]
    },
    {
     "name": "stderr",
     "output_type": "stream",
     "text": [
      " 96%|█████████▌| 4808/5000 [00:00<00:00, 48078.78it/s]"
     ]
    },
    {
     "name": "stdout",
     "output_type": "stream",
     "text": [
      "\b\b\b\b\b\b\b\b\b\b\b\b\b\b\b\b\b\b\b\b\b\b\b\b\b\b\b\b\b\b\b\b\b\b\b\b\b\b\b\b\b\b\b\b\b\b\b\b\b\b\b\b\b\b\b\b\b\b\b\b\b\b\b\b\b\b\b\b\b\b\b\b\b\b\b\b\b\b\b\b\b\b\b\b\b\b\b\b\b\b\b\b\b\b\b\b\b\b\b\r",
      "   4/1000 [..............................] - ETA: 2:27 - loss: 0.0989 - mean_absolute_error: 0.0989"
     ]
    },
    {
     "name": "stderr",
     "output_type": "stream",
     "text": [
      "\r",
      "100%|██████████| 5000/5000 [00:00<00:00, 48042.74it/s]\n"
     ]
    },
    {
     "name": "stdout",
     "output_type": "stream",
     "text": [
      " 999/1000 [============================>.] - ETA: 0s - loss: 0.1077 - mean_absolute_error: 0.1077"
     ]
    },
    {
     "name": "stderr",
     "output_type": "stream",
     "text": [
      "100%|██████████| 50000/50000 [00:00<00:00, 55466.99it/s]\n"
     ]
    },
    {
     "name": "stdout",
     "output_type": "stream",
     "text": [
      "1000/1000 [==============================] - 113s 113ms/step - loss: 0.1076 - mean_absolute_error: 0.1076 - val_loss: 0.1362 - val_mean_absolute_error: 0.1362\n",
      "\n",
      "Epoch 00017: val_loss did not improve from 0.13559\n",
      "Epoch 18/20\n",
      "   2/1000 [..............................] - ETA: 2:29 - loss: 0.1132 - mean_absolute_error: 0.1132"
     ]
    },
    {
     "name": "stderr",
     "output_type": "stream",
     "text": [
      "\r",
      "  0%|          | 0/5000 [00:00<?, ?it/s]"
     ]
    },
    {
     "name": "stdout",
     "output_type": "stream",
     "text": [
      "\b\b\b\b\b\b\b\b\b\b\b\b\b\b\b\b\b\b\b\b\b\b\b\b\b\b\b\b\b\b\b\b\b\b\b\b\b\b\b\b\b\b\b\b\b\b\b\b\b\b\b\b\b\b\b\b\b\b\b\b\b\b\b\b\b\b\b\b\b\b\b\b\b\b\b\b\b\b\b\b\b\b\b\b\b\b\b\b\b\b\b\b\b\b\b\b\b\b\b\r",
      "   3/1000 [..............................] - ETA: 2:56 - loss: 0.1053 - mean_absolute_error: 0.1053"
     ]
    },
    {
     "name": "stderr",
     "output_type": "stream",
     "text": [
      "\r",
      "100%|██████████| 5000/5000 [00:00<00:00, 50541.21it/s]\n"
     ]
    },
    {
     "name": "stdout",
     "output_type": "stream",
     "text": [
      " 999/1000 [============================>.] - ETA: 0s - loss: 0.1072 - mean_absolute_error: 0.1072"
     ]
    },
    {
     "name": "stderr",
     "output_type": "stream",
     "text": [
      "100%|██████████| 50000/50000 [00:00<00:00, 53528.11it/s]\n"
     ]
    },
    {
     "name": "stdout",
     "output_type": "stream",
     "text": [
      "1000/1000 [==============================] - 112s 112ms/step - loss: 0.1071 - mean_absolute_error: 0.1071 - val_loss: 0.1374 - val_mean_absolute_error: 0.1374\n",
      "\n",
      "Epoch 00018: val_loss did not improve from 0.13559\n",
      "Epoch 19/20\n",
      "   3/1000 [..............................] - ETA: 2:34 - loss: 0.0950 - mean_absolute_error: 0.0950"
     ]
    },
    {
     "name": "stderr",
     "output_type": "stream",
     "text": [
      "100%|██████████| 5000/5000 [00:00<00:00, 55487.55it/s]"
     ]
    },
    {
     "name": "stdout",
     "output_type": "stream",
     "text": [
      "\b\b\b\b\b\b\b\b\b\b\b\b\b\b\b\b\b\b\b\b\b\b\b\b\b\b\b\b\b\b\b\b\b\b\b\b\b\b\b\b\b\b\b\b\b\b\b\b\b\b\b\b\b\b\b\b\b\b\b\b\b\b\b\b\b\b\b\b\b\b\b\b\b\b\b\b\b\b\b\b\b\b\b\b\b\b\b\b\b\b\b\b\b\b\b\b\b\b\b\r",
      "   4/1000 [..............................] - ETA: 2:26 - loss: 0.0998 - mean_absolute_error: 0.0998"
     ]
    },
    {
     "name": "stderr",
     "output_type": "stream",
     "text": [
      "\n"
     ]
    },
    {
     "name": "stdout",
     "output_type": "stream",
     "text": [
      " 999/1000 [============================>.] - ETA: 0s - loss: 0.1049 - mean_absolute_error: 0.1049"
     ]
    },
    {
     "name": "stderr",
     "output_type": "stream",
     "text": [
      "100%|██████████| 50000/50000 [00:00<00:00, 53337.92it/s]\n"
     ]
    },
    {
     "name": "stdout",
     "output_type": "stream",
     "text": [
      "\b\b\b\b\b\b\b\b\b\b\b\b\b\b\b\b\b\b\b\b\b\b\b\b\b\b\b\b\b\b\b\b\b\b\b\b\b\b\b\b\b\b\b\b\b\b\b\b\b\b\b\b\b\b\b\b\b\b\b\b\b\b\b\b\b\b\b\b\b\b\b\b\b\b\b\b\b\b\b\b\b\b\b\b\b\b\b\b\b\b\b\b\b\b\b\b\b\r",
      "1000/1000 [==============================] - 112s 112ms/step - loss: 0.1049 - mean_absolute_error: 0.1049 - val_loss: 0.1353 - val_mean_absolute_error: 0.1353\n",
      "\n",
      "Epoch 00019: val_loss improved from 0.13559 to 0.13531, saving model to descriptor-019.h5\n"
     ]
    },
    {
     "name": "stderr",
     "output_type": "stream",
     "text": [
      "100%|██████████| 5000/5000 [00:00<00:00, 38667.51it/s]"
     ]
    },
    {
     "name": "stdout",
     "output_type": "stream",
     "text": [
      "Epoch 20/20\n",
      "\r",
      "   1/1000 [..............................] - ETA: 2:16 - loss: 0.2301 - mean_absolute_error: 0.2301"
     ]
    },
    {
     "name": "stderr",
     "output_type": "stream",
     "text": [
      "\n"
     ]
    },
    {
     "name": "stdout",
     "output_type": "stream",
     "text": [
      " 999/1000 [============================>.] - ETA: 0s - loss: 0.1061 - mean_absolute_error: 0.1061"
     ]
    },
    {
     "name": "stderr",
     "output_type": "stream",
     "text": [
      "100%|██████████| 50000/50000 [00:01<00:00, 25068.89it/s]\n"
     ]
    },
    {
     "name": "stdout",
     "output_type": "stream",
     "text": [
      "\b\b\b\b\b\b\b\b\b\b\b\b\b\b\b\b\b\b\b\b\b\b\b\b\b\b\b\b\b\b\b\b\b\b\b\b\b\b\b\b\b\b\b\b\b\b\b\b\b\b\b\b\b\b\b\b\b\b\b\b\b\b\b\b\b\b\b\b\b\b\b\b\b\b\b\b\b\b\b\b\b\b\b\b\b\b\b\b\b\b\b\b\b\b\b\b\b\r",
      "1000/1000 [==============================] - 115s 115ms/step - loss: 0.1061 - mean_absolute_error: 0.1061 - val_loss: 0.1417 - val_mean_absolute_error: 0.1417\n",
      "\n",
      "Epoch 00020: val_loss did not improve from 0.13531\n"
     ]
    },
    {
     "name": "stderr",
     "output_type": "stream",
     "text": [
      "100%|██████████| 5000/5000 [00:00<00:00, 86842.55it/s]\n"
     ]
    },
    {
     "name": "stdout",
     "output_type": "stream",
     "text": [
      "Warning: setting file descriptor_impr_new.h5  failed!\n",
      "curl: (26) read function returned funny value\n"
     ]
    }
   ],
   "source": [
    "# Train the baseline descriptor model and save weights afterwards\n",
    "epochs = 1\n",
    "### As with the denoising model, we use a loop to save for each epoch \n",
    "## #the weights in an external website in case colab stops. \n",
    "### reset, so e.g. calling 5 times fit(epochs=1) behave as fit(epochs=5)\n",
    "\n",
    "### If you have a model saved from a previous training session\n",
    "### Load it in the next line\n",
    "# descriptor_model_trip.set_weights(keras.models.load_model('./descriptor.h5').get_weights())\n",
    "# descriptor_model_trip.optimizer = keras.models.load_model('./descriptor.h5').optimizer\n",
    "\n",
    "for e in range(epochs):\n",
    "  \n",
    "  descriptor_history_improved = descriptor_model_trip_improved.fit_generator(generator=training_generator,\n",
    "                                                                             epochs=20,\n",
    "                                                                             verbose=1, \n",
    "                                                           validation_data=val_generator,\n",
    "                                                           callbacks=[histories_descriptor_improved,\n",
    "                                                                      reduce_lr_desc,\n",
    "                                                                      checkpoint_desc])\n",
    "  \n",
    "  ### Saves optimizer and weights\n",
    "  descriptor_model_trip_improved.save('descriptor_impr.h5') \n",
    "  ### Uploads files to external hosting\n",
    "  !curl -F \"file=@descriptor_impr_new.h5\" https://file.io"
   ]
  },
  {
   "cell_type": "code",
   "execution_count": 0,
   "metadata": {
    "colab": {
     "base_uri": "https://localhost:8080/",
     "height": 402
    },
    "colab_type": "code",
    "id": "9oqIUaMHS024",
    "outputId": "ca5450dd-ede8-4ff0-834d-cdeeabca3805"
   },
   "outputs": [
    {
     "data": {
      "image/png": "[encoded data removed]",
      "text/plain": [
       "<Figure size 576x396 with 1 Axes>"
      ]
     },
     "metadata": {
      "tags": []
     },
     "output_type": "display_data"
    }
   ],
   "source": [
    "plot_history(descriptor_history_improved)"
   ]
  },
  {
   "cell_type": "code",
   "execution_count": 0,
   "metadata": {
    "colab": {
     "base_uri": "https://localhost:8080/",
     "height": 434
    },
    "colab_type": "code",
    "id": "BKanYRkoTMXL",
    "outputId": "538f31ad-859d-4bf4-ce96-d285565f7280"
   },
   "outputs": [
    {
     "data": {
      "image/png": "[encoded data removed]",
      "text/plain": [
       "<Figure size 432x432 with 1 Axes>"
      ]
     },
     "metadata": {
      "tags": []
     },
     "output_type": "display_data"
    }
   ],
   "source": [
    "plot_lc(histories_descriptor_improved,\n",
    "        legstr=['Descriptor Loss'],\n",
    "        ylimit=[-0.1,1])"
   ]
  },
  {
   "cell_type": "code",
   "execution_count": 0,
   "metadata": {
    "colab": {},
    "colab_type": "code",
    "id": "6pi_orqo8rsm"
   },
   "outputs": [],
   "source": [
    "# Load the best performing model\n",
    "# denoise_model_UNet = keras.models.load_model('model_impr-019.h5')\n",
    "# descriptor_model_improved = keras.models.load_model('model_desc-018.h5')"
   ]
  },
  {
   "cell_type": "markdown",
   "metadata": {
    "colab_type": "text",
    "id": "RUXlVWnxUcp1"
   },
   "source": [
    "## Improved descriptor model evaluation"
   ]
  },
  {
   "cell_type": "code",
   "execution_count": 0,
   "metadata": {
    "colab": {
     "base_uri": "https://localhost:8080/",
     "height": 32
    },
    "colab_type": "code",
    "id": "dievfF97g2Ot",
    "outputId": "d898283a-da2c-4659-f715-bc7a646f680a"
   },
   "outputs": [
    {
     "name": "stderr",
     "output_type": "stream",
     "text": [
      "100%|██████████| 40/40 [18:50<00:00, 26.15s/it]\n"
     ]
    }
   ],
   "source": [
    "# Generation of the .csv file and samples for the descriptor model evaluation\n",
    "generate_desc_csv(descriptor_model_improved, seqs_test, denoise_model=denoise_model_UNet, use_clean=False)"
   ]
  },
  {
   "cell_type": "markdown",
   "metadata": {
    "colab_type": "text",
    "id": "XChH3ABcUo7Z"
   },
   "source": [
    "### Verification"
   ]
  },
  {
   "cell_type": "code",
   "execution_count": 0,
   "metadata": {
    "colab": {
     "base_uri": "https://localhost:8080/",
     "height": 1019
    },
    "colab_type": "code",
    "id": "mkS-HU9sg8S1",
    "outputId": "9fdbe600-8b4e-4fc8-d0b1-7f4164d9656b"
   },
   "outputs": [
    {
     "name": "stdout",
     "output_type": "stream",
     "text": [
      "\n",
      ">> Running HPatch evaluation for \u001b[34mcustom\u001b[0m\n",
      ">> Please wait, loading the descriptor files...\n",
      ">> Descriptor files loaded.\n",
      ">> Evaluating \u001b[32mverification\u001b[0m task\n",
      "Processing verification task 1/3 : 100% 1000000/1000000 [01:23<00:00, 11933.43it/s]\n",
      "Processing verification task 2/3 : 100% 1000000/1000000 [01:25<00:00, 11678.49it/s]\n",
      "Processing verification task 3/3 : 100% 1000000/1000000 [01:26<00:00, 11611.67it/s]\n",
      ">> \u001b[32mVerification\u001b[0m task finished in 262 secs  \n",
      "\u001b[32mVerification\u001b[0m task results:\n",
      "\u001b[34mCUSTOM\u001b[0m - Imbalanced variant (ap) \n",
      "Noise       Inter     Intra\n",
      "-------  --------  --------\n",
      "Easy     0.895362  0.825782\n",
      "Hard     0.855563  0.760994\n",
      "Tough    0.791495  0.674044\n",
      "Mean Average Precision is 0.800540\n"
     ]
    }
   ],
   "source": [
    "!python ./hpatches-benchmark/hpatches_eval.py --descr-name=custom --descr-dir=/content/keras_triplet_descriptor/out/ --task=verification --delimiter=\";\"\n",
    "!python ./hpatches-benchmark/hpatches_results.py --descr=custom --results-dir=./hpatches-benchmark/results/ --task=verification --more_info"
   ]
  },
  {
   "cell_type": "markdown",
   "metadata": {
    "colab_type": "text",
    "id": "U5CDEcaAUqHT"
   },
   "source": [
    "### Matching"
   ]
  },
  {
   "cell_type": "code",
   "execution_count": 0,
   "metadata": {
    "colab": {
     "base_uri": "https://localhost:8080/",
     "height": 289
    },
    "colab_type": "code",
    "id": "oPTwQT4xhAxn",
    "outputId": "a89467cd-b052-4ab8-e112-546fb0c543fc"
   },
   "outputs": [
    {
     "name": "stdout",
     "output_type": "stream",
     "text": [
      "\n",
      ">> Running HPatch evaluation for \u001b[34mcustom\u001b[0m\n",
      ">> Please wait, loading the descriptor files...\n",
      ">> Descriptor files loaded.\n",
      ">> Evaluating \u001b[32mmatching\u001b[0m task\n",
      "100% 40/40 [01:45<00:00,  3.56s/it]\n",
      ">> \u001b[32mMatching\u001b[0m task finished in 105 secs  \n",
      "\u001b[32mMatching\u001b[0m task results:\n",
      "\u001b[34mCUSTOM\u001b[0m - mAP \n",
      "    Easy      Hard      Tough      mean\n",
      "--------  --------  ---------  --------\n",
      "0.276777  0.132846  0.0568122  0.155479\n",
      "Mean Average Precision is 0.155479\n",
      "\n",
      "\n"
     ]
    }
   ],
   "source": [
    "!python ./hpatches-benchmark/hpatches_eval.py --descr-name=custom --descr-dir=/content/keras_triplet_descriptor/out/ --task=matching --delimiter=\";\"\n",
    "!python ./hpatches-benchmark/hpatches_results.py --descr=custom --results-dir=./hpatches-benchmark/results/ --task=matching --more_info"
   ]
  },
  {
   "cell_type": "code",
   "execution_count": 0,
   "metadata": {
    "colab": {},
    "colab_type": "code",
    "id": "TtOIfRlsvfJR"
   },
   "outputs": [],
   "source": []
  },
  {
   "cell_type": "markdown",
   "metadata": {
    "colab_type": "text",
    "id": "KhsIOZhJUrHy"
   },
   "source": [
    "### Retrieval"
   ]
  },
  {
   "cell_type": "code",
   "execution_count": 0,
   "metadata": {
    "colab": {
     "base_uri": "https://localhost:8080/",
     "height": 1019
    },
    "colab_type": "code",
    "id": "0zGR7URkhGWx",
    "outputId": "70261c62-c1e4-4c83-da1b-aea526b8e458"
   },
   "outputs": [
    {
     "name": "stdout",
     "output_type": "stream",
     "text": [
      "\n",
      ">> Running HPatch evaluation for \u001b[34mcustom\u001b[0m\n",
      ">> Please wait, loading the descriptor files...\n",
      ">> Descriptor files loaded.\n",
      ">> Evaluating \u001b[32mretrieval\u001b[0m task\n",
      ">> Please wait, computing distance matrix...\n",
      "tcmalloc: large alloc 1600004096 bytes == 0x26ecc000 @  0x7f884db261e7 0x7f88433d1a41 0x7f8843434c13 0x7f884343699e 0x7f88434ce748 0x5030d5 0x507641 0x504c28 0x502540 0x502f3d 0x506859 0x502209 0x502f3d 0x506859 0x504c28 0x502540 0x502f3d 0x506859 0x504c28 0x506393 0x634d52 0x634e0a 0x6385c8 0x63915a 0x4a6f10 0x7f884d723b97 0x5afa0a\n",
      ">> Distance matrix done.\n",
      "Processing retrieval task: 100% 10000/10000 [03:09<00:00, 52.77it/s]\n",
      ">> \u001b[32mRetrieval\u001b[0m task finished in 204 secs  \n",
      "\u001b[32mRetrieval\u001b[0m task results:\n",
      "\u001b[34mCUSTOM\u001b[0m - mAP 10K queries \n",
      "Noise         100       500      1000      5000     10000     15000     20000\n",
      "-------  --------  --------  --------  --------  --------  --------  --------\n",
      "Easy     0.814644  0.683041  0.630405  0.507341  0.458383  0.430877  0.413397\n",
      "Hard     0.772581  0.603584  0.532035  0.373714  0.312767  0.281754  0.261458\n",
      "Tough    0.700213  0.486206  0.403789  0.241279  0.187552  0.161471  0.145612\n",
      "mean     0.762479  0.590944  0.522076  0.374112  0.319568  0.291367  0.273489\n",
      "Mean Average Precision is 0.447719\n"
     ]
    }
   ],
   "source": [
    "!python ./hpatches-benchmark/hpatches_eval.py --descr-name=custom --descr-dir=/content/keras_triplet_descriptor/out/ --task=retrieval --delimiter=\";\"\n",
    "!python ./hpatches-benchmark/hpatches_results.py --descr=custom --results-dir=./hpatches-benchmark/results/ --task=retrieval --more_info"
   ]
  },
  {
   "cell_type": "markdown",
   "metadata": {
    "colab_type": "text",
    "id": "5zVjmJ1WUgc3"
   },
   "source": [
    "## Exporting .csv files\n",
    "This will be done for the final competition submission next week."
   ]
  }
 ],
 "metadata": {
  "accelerator": "GPU",
  "colab": {
   "collapsed_sections": [],
   "name": "Full_Coursework_Gasparek_Replace.ipynb",
   "provenance": [],
   "toc_visible": true,
   "version": "0.3.2"
  },
  "kernelspec": {
   "display_name": "Python 3",
   "language": "python",
   "name": "python3"
  },
  "language_info": {
   "codemirror_mode": {
    "name": "ipython",
    "version": 3
   },
   "file_extension": ".py",
   "mimetype": "text/x-python",
   "name": "python",
   "nbconvert_exporter": "python",
   "pygments_lexer": "ipython3",
   "version": "3.6.6"
  }
 },
 "nbformat": 4,
 "nbformat_minor": 1
}
